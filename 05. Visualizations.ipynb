{
 "cells": [
  {
   "cell_type": "markdown",
   "id": "9bd570e2-6c93-45e8-9010-d3ddf30001c5",
   "metadata": {},
   "source": [
    "### 1. Imports"
   ]
  },
  {
   "cell_type": "code",
   "execution_count": 1,
   "id": "6d637309-f4c1-4be5-a151-aa35b6ac72b7",
   "metadata": {},
   "outputs": [],
   "source": [
    "# Libraries\n",
    "import pandas as pd\n",
    "import numpy as np\n",
    "import os\n",
    "import matplotlib.pyplot as plt\n",
    "import seaborn as sns\n",
    "import scipy\n",
    "import hashlib"
   ]
  },
  {
   "cell_type": "code",
   "execution_count": 2,
   "id": "a3c6b949-b755-41d7-a51f-47e5a85e9957",
   "metadata": {},
   "outputs": [],
   "source": [
    "# Files\n",
    "path = os.path.expanduser('~/Desktop/CareerFoundry/2.4/4.10.') # path to the root folder\n",
    "\n",
    "### All Instacart Data Merged\n",
    "df_customers_orders_products_merged = pd.read_pickle(os.path.join(\n",
    "    path, '02 Data','Cleaned Data', 'df_customers_orders_products_merged.pkl'))\n",
    "###\n",
    "\n",
    "df_customers = pd.read_csv(os.path.join(path, '02 Data', 'Original Data', 'customers.csv'))"
   ]
  },
  {
   "cell_type": "markdown",
   "id": "121661da-bf0e-4793-9d12-3a806c0c9f64",
   "metadata": {},
   "source": [
    "### 2. Hashing Sensitive Data "
   ]
  },
  {
   "cell_type": "code",
   "execution_count": 5,
   "id": "31e41d17-fb47-43bc-bfe0-4feccbec9fd2",
   "metadata": {},
   "outputs": [],
   "source": [
    "def hash_value(val): # function to hash sensitive values\n",
    "    return hashlib.sha256(str(val).encode()).hexdigest()"
   ]
  },
  {
   "cell_type": "code",
   "execution_count": null,
   "id": "b9ef29a1-f730-4e56-8a5a-24e8459367c2",
   "metadata": {},
   "outputs": [],
   "source": [
    "# Hashing df_customers_orders_products_merged\n",
    "df_customers_orders_products_merged['hashed_user'] = df_customers_orders_products_merged.apply(lambda x: \n",
    "                                                    hash_value(x['first_name'] + x['last_name']), axis=1)"
   ]
  },
  {
   "cell_type": "code",
   "execution_count": null,
   "id": "b651cd81-6ac7-4a61-b2ad-ac44ec63217d",
   "metadata": {},
   "outputs": [],
   "source": [
    "# Drop original PII\n",
    "df_customers = df_customers.drop(columns=['first_name', 'last_name'])"
   ]
  },
  {
   "cell_type": "code",
   "execution_count": null,
   "id": "03cf481f-1b7d-40ee-9a97-2b6f41fd2283",
   "metadata": {},
   "outputs": [],
   "source": [
    "# Hashing df_customers_orders_products_merged\n",
    "df_customers['hashed_user'] = df_customers.apply(lambda x: hash_value(x['first_name'] + x['last_name']), axis=1)"
   ]
  },
  {
   "cell_type": "code",
   "execution_count": null,
   "id": "f431c8a1-a8ec-47e7-9d33-3dc351c0dbf3",
   "metadata": {},
   "outputs": [],
   "source": [
    "# Drop original PII\n",
    "df_customers = df_customers.drop(columns=['first_name', 'last_name'])"
   ]
  }
 ],
 "metadata": {
  "kernelspec": {
   "display_name": "Python [conda env:base] *",
   "language": "python",
   "name": "conda-base-py"
  },
  "language_info": {
   "codemirror_mode": {
    "name": "ipython",
    "version": 3
   },
   "file_extension": ".py",
   "mimetype": "text/x-python",
   "name": "python",
   "nbconvert_exporter": "python",
   "pygments_lexer": "ipython3",
   "version": "3.13.2"
  }
 },
 "nbformat": 4,
 "nbformat_minor": 5
}

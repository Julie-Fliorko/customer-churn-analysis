{
 "cells": [
  {
   "cell_type": "markdown",
   "id": "b30713b9-9c7a-4127-aa22-c9df32f5fd3e",
   "metadata": {},
   "source": [
    "# 1. Imports"
   ]
  },
  {
   "cell_type": "code",
   "execution_count": 1,
   "id": "8b7fd8d4-06f4-48cc-90d9-07626a71bece",
   "metadata": {},
   "outputs": [],
   "source": [
    "# Libraries\n",
    "import pandas as pd\n",
    "import numpy as np\n",
    "import os\n",
    "import hashlib"
   ]
  },
  {
   "cell_type": "code",
   "execution_count": 2,
   "id": "64eabf2d-df16-4b51-aeab-80f0c02f79e5",
   "metadata": {},
   "outputs": [],
   "source": [
    "# Files\n",
    "path = os.path.expanduser('~/Desktop/CareerFoundry/2.4/4.10.') # path to the root folder\n",
    "\n",
    "### Products\n",
    "df_products = pd.read_pickle(os.path.join(path, '02 Data', 'Clean Data', 'products.pkl'))\n",
    "### Orders\n",
    "df_orders = pd.read_pickle(os.path.join(path, '02 Data', 'Clean Data', 'orders.pkl')) \n",
    "### Customers\n",
    "df_customers = pd.read_pickle(os.path.join(path, '02 Data', 'Clean Data','customers.pkl'))\n",
    "### Departments\n",
    "df_departments = pd.read_pickle(os.path.join(path, '02 Data', 'Clean Data', 'departments.pkl'))\n",
    "### Prior Orders\n",
    "df_orders_prior= pd.read_pickle(os.path.join(path, '02 Data', 'Clean Data', 'orders_products_prior.pkl'))"
   ]
  },
  {
   "cell_type": "markdown",
   "id": "cc97c0ee-26fb-4d90-95be-e419faec6fa3",
   "metadata": {},
   "source": [
    "## Orders and Products Prior = df_orders_products_prior_merged"
   ]
  },
  {
   "cell_type": "code",
   "execution_count": 13,
   "id": "7da27acc-db05-4d79-bec8-93858811c485",
   "metadata": {},
   "outputs": [
    {
     "data": {
      "text/html": [
       "<div>\n",
       "<style scoped>\n",
       "    .dataframe tbody tr th:only-of-type {\n",
       "        vertical-align: middle;\n",
       "    }\n",
       "\n",
       "    .dataframe tbody tr th {\n",
       "        vertical-align: top;\n",
       "    }\n",
       "\n",
       "    .dataframe thead th {\n",
       "        text-align: right;\n",
       "    }\n",
       "</style>\n",
       "<table border=\"1\" class=\"dataframe\">\n",
       "  <thead>\n",
       "    <tr style=\"text-align: right;\">\n",
       "      <th></th>\n",
       "      <th>order_id</th>\n",
       "      <th>user_id</th>\n",
       "      <th>order_number</th>\n",
       "      <th>order_day_of_week</th>\n",
       "      <th>order_hour_of_day</th>\n",
       "      <th>days_since_prior_order</th>\n",
       "    </tr>\n",
       "  </thead>\n",
       "  <tbody>\n",
       "    <tr>\n",
       "      <th>0</th>\n",
       "      <td>2539329</td>\n",
       "      <td>1</td>\n",
       "      <td>1</td>\n",
       "      <td>2</td>\n",
       "      <td>8</td>\n",
       "      <td>0.0</td>\n",
       "    </tr>\n",
       "    <tr>\n",
       "      <th>1</th>\n",
       "      <td>2398795</td>\n",
       "      <td>1</td>\n",
       "      <td>2</td>\n",
       "      <td>3</td>\n",
       "      <td>7</td>\n",
       "      <td>15.0</td>\n",
       "    </tr>\n",
       "    <tr>\n",
       "      <th>2</th>\n",
       "      <td>473747</td>\n",
       "      <td>1</td>\n",
       "      <td>3</td>\n",
       "      <td>3</td>\n",
       "      <td>12</td>\n",
       "      <td>21.0</td>\n",
       "    </tr>\n",
       "    <tr>\n",
       "      <th>3</th>\n",
       "      <td>2254736</td>\n",
       "      <td>1</td>\n",
       "      <td>4</td>\n",
       "      <td>4</td>\n",
       "      <td>7</td>\n",
       "      <td>29.0</td>\n",
       "    </tr>\n",
       "    <tr>\n",
       "      <th>4</th>\n",
       "      <td>431534</td>\n",
       "      <td>1</td>\n",
       "      <td>5</td>\n",
       "      <td>4</td>\n",
       "      <td>15</td>\n",
       "      <td>28.0</td>\n",
       "    </tr>\n",
       "  </tbody>\n",
       "</table>\n",
       "</div>"
      ],
      "text/plain": [
       "  order_id user_id  order_number  order_day_of_week  order_hour_of_day  \\\n",
       "0  2539329       1             1                  2                  8   \n",
       "1  2398795       1             2                  3                  7   \n",
       "2   473747       1             3                  3                 12   \n",
       "3  2254736       1             4                  4                  7   \n",
       "4   431534       1             5                  4                 15   \n",
       "\n",
       "   days_since_prior_order  \n",
       "0                     0.0  \n",
       "1                    15.0  \n",
       "2                    21.0  \n",
       "3                    29.0  \n",
       "4                    28.0  "
      ]
     },
     "execution_count": 13,
     "metadata": {},
     "output_type": "execute_result"
    }
   ],
   "source": [
    "df_orders.head()"
   ]
  },
  {
   "cell_type": "code",
   "execution_count": 3,
   "id": "296a21d2-0cdb-4178-8b8d-611d462e590e",
   "metadata": {},
   "outputs": [],
   "source": [
    "df_orders_products_prior_merged = []\n",
    "df_orders_products_prior_merged = df_orders.merge(df_orders_prior, on='order_id', indicator = 'merge_flag_orders_prod_prior')"
   ]
  },
  {
   "cell_type": "code",
   "execution_count": 4,
   "id": "8f064436-dac2-4029-85bd-08080fd8eca0",
   "metadata": {},
   "outputs": [
    {
     "data": {
      "text/html": [
       "<div>\n",
       "<style scoped>\n",
       "    .dataframe tbody tr th:only-of-type {\n",
       "        vertical-align: middle;\n",
       "    }\n",
       "\n",
       "    .dataframe tbody tr th {\n",
       "        vertical-align: top;\n",
       "    }\n",
       "\n",
       "    .dataframe thead th {\n",
       "        text-align: right;\n",
       "    }\n",
       "</style>\n",
       "<table border=\"1\" class=\"dataframe\">\n",
       "  <thead>\n",
       "    <tr style=\"text-align: right;\">\n",
       "      <th></th>\n",
       "      <th>order_id</th>\n",
       "      <th>user_id</th>\n",
       "      <th>order_number</th>\n",
       "      <th>order_day_of_week</th>\n",
       "      <th>order_hour_of_day</th>\n",
       "      <th>days_since_prior_order</th>\n",
       "      <th>product_id</th>\n",
       "      <th>add_to_cart_order</th>\n",
       "      <th>reordered</th>\n",
       "      <th>merge_flag_orders_prod_prior</th>\n",
       "    </tr>\n",
       "  </thead>\n",
       "  <tbody>\n",
       "    <tr>\n",
       "      <th>0</th>\n",
       "      <td>2539329</td>\n",
       "      <td>1</td>\n",
       "      <td>1</td>\n",
       "      <td>2</td>\n",
       "      <td>8</td>\n",
       "      <td>0.0</td>\n",
       "      <td>196</td>\n",
       "      <td>1</td>\n",
       "      <td>0</td>\n",
       "      <td>both</td>\n",
       "    </tr>\n",
       "    <tr>\n",
       "      <th>1</th>\n",
       "      <td>2539329</td>\n",
       "      <td>1</td>\n",
       "      <td>1</td>\n",
       "      <td>2</td>\n",
       "      <td>8</td>\n",
       "      <td>0.0</td>\n",
       "      <td>14084</td>\n",
       "      <td>2</td>\n",
       "      <td>0</td>\n",
       "      <td>both</td>\n",
       "    </tr>\n",
       "    <tr>\n",
       "      <th>2</th>\n",
       "      <td>2539329</td>\n",
       "      <td>1</td>\n",
       "      <td>1</td>\n",
       "      <td>2</td>\n",
       "      <td>8</td>\n",
       "      <td>0.0</td>\n",
       "      <td>12427</td>\n",
       "      <td>3</td>\n",
       "      <td>0</td>\n",
       "      <td>both</td>\n",
       "    </tr>\n",
       "    <tr>\n",
       "      <th>3</th>\n",
       "      <td>2539329</td>\n",
       "      <td>1</td>\n",
       "      <td>1</td>\n",
       "      <td>2</td>\n",
       "      <td>8</td>\n",
       "      <td>0.0</td>\n",
       "      <td>26088</td>\n",
       "      <td>4</td>\n",
       "      <td>0</td>\n",
       "      <td>both</td>\n",
       "    </tr>\n",
       "    <tr>\n",
       "      <th>4</th>\n",
       "      <td>2539329</td>\n",
       "      <td>1</td>\n",
       "      <td>1</td>\n",
       "      <td>2</td>\n",
       "      <td>8</td>\n",
       "      <td>0.0</td>\n",
       "      <td>26405</td>\n",
       "      <td>5</td>\n",
       "      <td>0</td>\n",
       "      <td>both</td>\n",
       "    </tr>\n",
       "  </tbody>\n",
       "</table>\n",
       "</div>"
      ],
      "text/plain": [
       "  order_id user_id  order_number  order_day_of_week  order_hour_of_day  \\\n",
       "0  2539329       1             1                  2                  8   \n",
       "1  2539329       1             1                  2                  8   \n",
       "2  2539329       1             1                  2                  8   \n",
       "3  2539329       1             1                  2                  8   \n",
       "4  2539329       1             1                  2                  8   \n",
       "\n",
       "   days_since_prior_order product_id  add_to_cart_order  reordered  \\\n",
       "0                     0.0        196                  1          0   \n",
       "1                     0.0      14084                  2          0   \n",
       "2                     0.0      12427                  3          0   \n",
       "3                     0.0      26088                  4          0   \n",
       "4                     0.0      26405                  5          0   \n",
       "\n",
       "  merge_flag_orders_prod_prior  \n",
       "0                         both  \n",
       "1                         both  \n",
       "2                         both  \n",
       "3                         both  \n",
       "4                         both  "
      ]
     },
     "execution_count": 4,
     "metadata": {},
     "output_type": "execute_result"
    }
   ],
   "source": [
    "df_orders_products_prior_merged.head()"
   ]
  },
  {
   "cell_type": "code",
   "execution_count": 5,
   "id": "a439a191-fb16-4797-9957-08f38c3ec330",
   "metadata": {},
   "outputs": [
    {
     "data": {
      "text/plain": [
       "merge_flag_orders_prod_prior\n",
       "both          32434489\n",
       "left_only            0\n",
       "right_only           0\n",
       "Name: count, dtype: int64"
      ]
     },
     "execution_count": 5,
     "metadata": {},
     "output_type": "execute_result"
    }
   ],
   "source": [
    "df_orders_products_prior_merged['merge_flag_orders_prod_prior'].value_counts() # checking how data was merged"
   ]
  },
  {
   "cell_type": "markdown",
   "id": "9625f632-4eb1-450f-8a6a-914d14908217",
   "metadata": {},
   "source": [
    "## Products and Orders Products Prior Merged = df_orders_products_prior_products_merged"
   ]
  },
  {
   "cell_type": "code",
   "execution_count": 6,
   "id": "50fd1282-6f69-495c-98fc-c22909026e2d",
   "metadata": {},
   "outputs": [],
   "source": [
    "df_orders_products_prior_products_merged = []\n",
    "df_orders_products_prior_products_merged = df_orders_products_prior_merged.merge(df_products, on = ['product_id'], \n",
    "                                                                indicator='merge_flag_orders_products_prior_products')"
   ]
  },
  {
   "cell_type": "code",
   "execution_count": 7,
   "id": "98f823b2-4508-47fb-aa7b-2cbc9f56dbe0",
   "metadata": {},
   "outputs": [
    {
     "data": {
      "text/plain": [
       "merge_flag_orders_products_prior_products\n",
       "both          32404859\n",
       "left_only            0\n",
       "right_only           0\n",
       "Name: count, dtype: int64"
      ]
     },
     "execution_count": 7,
     "metadata": {},
     "output_type": "execute_result"
    }
   ],
   "source": [
    "df_orders_products_prior_products_merged['merge_flag_orders_products_prior_products'].value_counts() # checking how data was merged"
   ]
  },
  {
   "cell_type": "markdown",
   "id": "76e93b5e-dbc1-419c-b10e-898df8d45864",
   "metadata": {},
   "source": [
    "## Customers and Orders Products Prior Merged products = df_order_history"
   ]
  },
  {
   "cell_type": "code",
   "execution_count": 8,
   "id": "b8af60b3-e33b-45b7-9403-bf192c148792",
   "metadata": {},
   "outputs": [],
   "source": [
    "def hash_id(val): # because we hashed user ids in Step 0, we need to prepare data to be able to use it for merging.\n",
    "    return hashlib.sha256(str(val).encode()).hexdigest()"
   ]
  },
  {
   "cell_type": "code",
   "execution_count": 9,
   "id": "9efea8d0-68f3-4d78-b2ea-4486666630d0",
   "metadata": {},
   "outputs": [],
   "source": [
    "# decoding hashed values in each df, so that they could be compared\n",
    "df_customers['user_id_hashed'] = df_customers['user_id'].apply(hash_id)\n",
    "df_orders_products_prior_products_merged['user_id_hashed'] = df_orders_products_prior_products_merged['user_id'].apply(hash_id)"
   ]
  },
  {
   "cell_type": "code",
   "execution_count": 10,
   "id": "aa7b890e-be8e-4a24-b045-453dd8c355c8",
   "metadata": {},
   "outputs": [
    {
     "name": "stdout",
     "output_type": "stream",
     "text": [
      "<class 'pandas.core.frame.DataFrame'>\n",
      "RangeIndex: 206209 entries, 0 to 206208\n",
      "Data columns (total 10 columns):\n",
      " #   Column          Non-Null Count   Dtype         \n",
      "---  ------          --------------   -----         \n",
      " 0   Unnamed: 0      206209 non-null  int64         \n",
      " 1   user_id         206209 non-null  object        \n",
      " 2   gender          206209 non-null  category      \n",
      " 3   state           206209 non-null  category      \n",
      " 4   date_joined     206209 non-null  datetime64[ns]\n",
      " 5   dependants      206209 non-null  int64         \n",
      " 6   family_status   206209 non-null  category      \n",
      " 7   age_group       206209 non-null  object        \n",
      " 8   income_bracket  206209 non-null  object        \n",
      " 9   user_id_hashed  206209 non-null  object        \n",
      "dtypes: category(3), datetime64[ns](1), int64(2), object(4)\n",
      "memory usage: 11.6+ MB\n"
     ]
    }
   ],
   "source": [
    "df_customers.info()"
   ]
  },
  {
   "cell_type": "code",
   "execution_count": 11,
   "id": "3141ba58-0a3b-4247-b14f-fed2afe4572f",
   "metadata": {},
   "outputs": [
    {
     "data": {
      "text/html": [
       "<div>\n",
       "<style scoped>\n",
       "    .dataframe tbody tr th:only-of-type {\n",
       "        vertical-align: middle;\n",
       "    }\n",
       "\n",
       "    .dataframe tbody tr th {\n",
       "        vertical-align: top;\n",
       "    }\n",
       "\n",
       "    .dataframe thead th {\n",
       "        text-align: right;\n",
       "    }\n",
       "</style>\n",
       "<table border=\"1\" class=\"dataframe\">\n",
       "  <thead>\n",
       "    <tr style=\"text-align: right;\">\n",
       "      <th></th>\n",
       "      <th>order_id</th>\n",
       "      <th>user_id</th>\n",
       "      <th>order_number</th>\n",
       "      <th>order_day_of_week</th>\n",
       "      <th>order_hour_of_day</th>\n",
       "      <th>days_since_prior_order</th>\n",
       "      <th>product_id</th>\n",
       "      <th>add_to_cart_order</th>\n",
       "      <th>reordered</th>\n",
       "      <th>merge_flag_orders_prod_prior</th>\n",
       "      <th>product_name</th>\n",
       "      <th>aisle_id</th>\n",
       "      <th>department_id</th>\n",
       "      <th>prices</th>\n",
       "      <th>merge_flag_orders_products_prior_products</th>\n",
       "      <th>user_id_hashed</th>\n",
       "    </tr>\n",
       "  </thead>\n",
       "  <tbody>\n",
       "    <tr>\n",
       "      <th>0</th>\n",
       "      <td>2539329</td>\n",
       "      <td>1</td>\n",
       "      <td>1</td>\n",
       "      <td>2</td>\n",
       "      <td>8</td>\n",
       "      <td>0.0</td>\n",
       "      <td>196</td>\n",
       "      <td>1</td>\n",
       "      <td>0</td>\n",
       "      <td>both</td>\n",
       "      <td>Soda</td>\n",
       "      <td>77</td>\n",
       "      <td>7</td>\n",
       "      <td>9.0</td>\n",
       "      <td>both</td>\n",
       "      <td>6b86b273ff34fce19d6b804eff5a3f5747ada4eaa22f1d...</td>\n",
       "    </tr>\n",
       "    <tr>\n",
       "      <th>1</th>\n",
       "      <td>2539329</td>\n",
       "      <td>1</td>\n",
       "      <td>1</td>\n",
       "      <td>2</td>\n",
       "      <td>8</td>\n",
       "      <td>0.0</td>\n",
       "      <td>14084</td>\n",
       "      <td>2</td>\n",
       "      <td>0</td>\n",
       "      <td>both</td>\n",
       "      <td>Organic Unsweetened Vanilla Almond Milk</td>\n",
       "      <td>91</td>\n",
       "      <td>16</td>\n",
       "      <td>12.5</td>\n",
       "      <td>both</td>\n",
       "      <td>6b86b273ff34fce19d6b804eff5a3f5747ada4eaa22f1d...</td>\n",
       "    </tr>\n",
       "    <tr>\n",
       "      <th>2</th>\n",
       "      <td>2539329</td>\n",
       "      <td>1</td>\n",
       "      <td>1</td>\n",
       "      <td>2</td>\n",
       "      <td>8</td>\n",
       "      <td>0.0</td>\n",
       "      <td>12427</td>\n",
       "      <td>3</td>\n",
       "      <td>0</td>\n",
       "      <td>both</td>\n",
       "      <td>Original Beef Jerky</td>\n",
       "      <td>23</td>\n",
       "      <td>19</td>\n",
       "      <td>4.4</td>\n",
       "      <td>both</td>\n",
       "      <td>6b86b273ff34fce19d6b804eff5a3f5747ada4eaa22f1d...</td>\n",
       "    </tr>\n",
       "    <tr>\n",
       "      <th>3</th>\n",
       "      <td>2539329</td>\n",
       "      <td>1</td>\n",
       "      <td>1</td>\n",
       "      <td>2</td>\n",
       "      <td>8</td>\n",
       "      <td>0.0</td>\n",
       "      <td>26088</td>\n",
       "      <td>4</td>\n",
       "      <td>0</td>\n",
       "      <td>both</td>\n",
       "      <td>Aged White Cheddar Popcorn</td>\n",
       "      <td>23</td>\n",
       "      <td>19</td>\n",
       "      <td>4.7</td>\n",
       "      <td>both</td>\n",
       "      <td>6b86b273ff34fce19d6b804eff5a3f5747ada4eaa22f1d...</td>\n",
       "    </tr>\n",
       "    <tr>\n",
       "      <th>4</th>\n",
       "      <td>2539329</td>\n",
       "      <td>1</td>\n",
       "      <td>1</td>\n",
       "      <td>2</td>\n",
       "      <td>8</td>\n",
       "      <td>0.0</td>\n",
       "      <td>26405</td>\n",
       "      <td>5</td>\n",
       "      <td>0</td>\n",
       "      <td>both</td>\n",
       "      <td>XL Pick-A-Size Paper Towel Rolls</td>\n",
       "      <td>54</td>\n",
       "      <td>17</td>\n",
       "      <td>1.0</td>\n",
       "      <td>both</td>\n",
       "      <td>6b86b273ff34fce19d6b804eff5a3f5747ada4eaa22f1d...</td>\n",
       "    </tr>\n",
       "  </tbody>\n",
       "</table>\n",
       "</div>"
      ],
      "text/plain": [
       "  order_id user_id  order_number  order_day_of_week  order_hour_of_day  \\\n",
       "0  2539329       1             1                  2                  8   \n",
       "1  2539329       1             1                  2                  8   \n",
       "2  2539329       1             1                  2                  8   \n",
       "3  2539329       1             1                  2                  8   \n",
       "4  2539329       1             1                  2                  8   \n",
       "\n",
       "   days_since_prior_order product_id  add_to_cart_order  reordered  \\\n",
       "0                     0.0        196                  1          0   \n",
       "1                     0.0      14084                  2          0   \n",
       "2                     0.0      12427                  3          0   \n",
       "3                     0.0      26088                  4          0   \n",
       "4                     0.0      26405                  5          0   \n",
       "\n",
       "  merge_flag_orders_prod_prior                             product_name  \\\n",
       "0                         both                                     Soda   \n",
       "1                         both  Organic Unsweetened Vanilla Almond Milk   \n",
       "2                         both                      Original Beef Jerky   \n",
       "3                         both               Aged White Cheddar Popcorn   \n",
       "4                         both         XL Pick-A-Size Paper Towel Rolls   \n",
       "\n",
       "  aisle_id department_id  prices merge_flag_orders_products_prior_products  \\\n",
       "0       77             7     9.0                                      both   \n",
       "1       91            16    12.5                                      both   \n",
       "2       23            19     4.4                                      both   \n",
       "3       23            19     4.7                                      both   \n",
       "4       54            17     1.0                                      both   \n",
       "\n",
       "                                      user_id_hashed  \n",
       "0  6b86b273ff34fce19d6b804eff5a3f5747ada4eaa22f1d...  \n",
       "1  6b86b273ff34fce19d6b804eff5a3f5747ada4eaa22f1d...  \n",
       "2  6b86b273ff34fce19d6b804eff5a3f5747ada4eaa22f1d...  \n",
       "3  6b86b273ff34fce19d6b804eff5a3f5747ada4eaa22f1d...  \n",
       "4  6b86b273ff34fce19d6b804eff5a3f5747ada4eaa22f1d...  "
      ]
     },
     "execution_count": 11,
     "metadata": {},
     "output_type": "execute_result"
    }
   ],
   "source": [
    "df_orders_products_prior_products_merged.head()"
   ]
  },
  {
   "cell_type": "code",
   "execution_count": 12,
   "id": "8529bad6-5e3e-4efe-843a-322428ba7832",
   "metadata": {},
   "outputs": [
    {
     "ename": "KeyboardInterrupt",
     "evalue": "",
     "output_type": "error",
     "traceback": [
      "\u001b[31m---------------------------------------------------------------------------\u001b[39m",
      "\u001b[31mKeyboardInterrupt\u001b[39m                         Traceback (most recent call last)",
      "\u001b[36mCell\u001b[39m\u001b[36m \u001b[39m\u001b[32mIn[12]\u001b[39m\u001b[32m, line 1\u001b[39m\n\u001b[32m----> \u001b[39m\u001b[32m1\u001b[39m df_order_history = df_orders_products_prior_products_merged.merge(\n\u001b[32m      2\u001b[39m     df_customers,\n\u001b[32m      3\u001b[39m     on=\u001b[33m'\u001b[39m\u001b[33muser_id\u001b[39m\u001b[33m'\u001b[39m,\n\u001b[32m      4\u001b[39m     how=\u001b[33m'\u001b[39m\u001b[33mleft\u001b[39m\u001b[33m'\u001b[39m,  \u001b[38;5;66;03m# Use left join to avoid explosion\u001b[39;00m\n\u001b[32m      5\u001b[39m     indicator=\u001b[33m'\u001b[39m\u001b[33mmerge_flag_customer\u001b[39m\u001b[33m'\u001b[39m\n\u001b[32m      6\u001b[39m )\n",
      "\u001b[36mFile \u001b[39m\u001b[32m/opt/miniconda3/lib/python3.13/site-packages/pandas/core/frame.py:10832\u001b[39m, in \u001b[36mDataFrame.merge\u001b[39m\u001b[34m(self, right, how, on, left_on, right_on, left_index, right_index, sort, suffixes, copy, indicator, validate)\u001b[39m\n\u001b[32m  10813\u001b[39m \u001b[38;5;129m@Substitution\u001b[39m(\u001b[33m\"\u001b[39m\u001b[33m\"\u001b[39m)\n\u001b[32m  10814\u001b[39m \u001b[38;5;129m@Appender\u001b[39m(_merge_doc, indents=\u001b[32m2\u001b[39m)\n\u001b[32m  10815\u001b[39m \u001b[38;5;28;01mdef\u001b[39;00m\u001b[38;5;250m \u001b[39m\u001b[34mmerge\u001b[39m(\n\u001b[32m   (...)\u001b[39m\u001b[32m  10828\u001b[39m     validate: MergeValidate | \u001b[38;5;28;01mNone\u001b[39;00m = \u001b[38;5;28;01mNone\u001b[39;00m,\n\u001b[32m  10829\u001b[39m ) -> DataFrame:\n\u001b[32m  10830\u001b[39m     \u001b[38;5;28;01mfrom\u001b[39;00m\u001b[38;5;250m \u001b[39m\u001b[34;01mpandas\u001b[39;00m\u001b[34;01m.\u001b[39;00m\u001b[34;01mcore\u001b[39;00m\u001b[34;01m.\u001b[39;00m\u001b[34;01mreshape\u001b[39;00m\u001b[34;01m.\u001b[39;00m\u001b[34;01mmerge\u001b[39;00m\u001b[38;5;250m \u001b[39m\u001b[38;5;28;01mimport\u001b[39;00m merge\n\u001b[32m> \u001b[39m\u001b[32m10832\u001b[39m     \u001b[38;5;28;01mreturn\u001b[39;00m merge(\n\u001b[32m  10833\u001b[39m         \u001b[38;5;28mself\u001b[39m,\n\u001b[32m  10834\u001b[39m         right,\n\u001b[32m  10835\u001b[39m         how=how,\n\u001b[32m  10836\u001b[39m         on=on,\n\u001b[32m  10837\u001b[39m         left_on=left_on,\n\u001b[32m  10838\u001b[39m         right_on=right_on,\n\u001b[32m  10839\u001b[39m         left_index=left_index,\n\u001b[32m  10840\u001b[39m         right_index=right_index,\n\u001b[32m  10841\u001b[39m         sort=sort,\n\u001b[32m  10842\u001b[39m         suffixes=suffixes,\n\u001b[32m  10843\u001b[39m         copy=copy,\n\u001b[32m  10844\u001b[39m         indicator=indicator,\n\u001b[32m  10845\u001b[39m         validate=validate,\n\u001b[32m  10846\u001b[39m     )\n",
      "\u001b[36mFile \u001b[39m\u001b[32m/opt/miniconda3/lib/python3.13/site-packages/pandas/core/reshape/merge.py:184\u001b[39m, in \u001b[36mmerge\u001b[39m\u001b[34m(left, right, how, on, left_on, right_on, left_index, right_index, sort, suffixes, copy, indicator, validate)\u001b[39m\n\u001b[32m    169\u001b[39m \u001b[38;5;28;01melse\u001b[39;00m:\n\u001b[32m    170\u001b[39m     op = _MergeOperation(\n\u001b[32m    171\u001b[39m         left_df,\n\u001b[32m    172\u001b[39m         right_df,\n\u001b[32m   (...)\u001b[39m\u001b[32m    182\u001b[39m         validate=validate,\n\u001b[32m    183\u001b[39m     )\n\u001b[32m--> \u001b[39m\u001b[32m184\u001b[39m     \u001b[38;5;28;01mreturn\u001b[39;00m op.get_result(copy=copy)\n",
      "\u001b[36mFile \u001b[39m\u001b[32m/opt/miniconda3/lib/python3.13/site-packages/pandas/core/reshape/merge.py:884\u001b[39m, in \u001b[36m_MergeOperation.get_result\u001b[39m\u001b[34m(self, copy)\u001b[39m\n\u001b[32m    882\u001b[39m \u001b[38;5;28;01mdef\u001b[39;00m\u001b[38;5;250m \u001b[39m\u001b[34mget_result\u001b[39m(\u001b[38;5;28mself\u001b[39m, copy: \u001b[38;5;28mbool\u001b[39m | \u001b[38;5;28;01mNone\u001b[39;00m = \u001b[38;5;28;01mTrue\u001b[39;00m) -> DataFrame:\n\u001b[32m    883\u001b[39m     \u001b[38;5;28;01mif\u001b[39;00m \u001b[38;5;28mself\u001b[39m.indicator:\n\u001b[32m--> \u001b[39m\u001b[32m884\u001b[39m         \u001b[38;5;28mself\u001b[39m.left, \u001b[38;5;28mself\u001b[39m.right = \u001b[38;5;28mself\u001b[39m._indicator_pre_merge(\u001b[38;5;28mself\u001b[39m.left, \u001b[38;5;28mself\u001b[39m.right)\n\u001b[32m    886\u001b[39m     join_index, left_indexer, right_indexer = \u001b[38;5;28mself\u001b[39m._get_join_info()\n\u001b[32m    888\u001b[39m     result = \u001b[38;5;28mself\u001b[39m._reindex_and_concat(\n\u001b[32m    889\u001b[39m         join_index, left_indexer, right_indexer, copy=copy\n\u001b[32m    890\u001b[39m     )\n",
      "\u001b[36mFile \u001b[39m\u001b[32m/opt/miniconda3/lib/python3.13/site-packages/pandas/core/reshape/merge.py:931\u001b[39m, in \u001b[36m_MergeOperation._indicator_pre_merge\u001b[39m\u001b[34m(self, left, right)\u001b[39m\n\u001b[32m    926\u001b[39m \u001b[38;5;28;01mif\u001b[39;00m \u001b[38;5;28mself\u001b[39m._indicator_name \u001b[38;5;129;01min\u001b[39;00m columns:\n\u001b[32m    927\u001b[39m     \u001b[38;5;28;01mraise\u001b[39;00m \u001b[38;5;167;01mValueError\u001b[39;00m(\n\u001b[32m    928\u001b[39m         \u001b[33m\"\u001b[39m\u001b[33mCannot use name of an existing column for indicator column\u001b[39m\u001b[33m\"\u001b[39m\n\u001b[32m    929\u001b[39m     )\n\u001b[32m--> \u001b[39m\u001b[32m931\u001b[39m left = left.copy()\n\u001b[32m    932\u001b[39m right = right.copy()\n\u001b[32m    934\u001b[39m left[\u001b[33m\"\u001b[39m\u001b[33m_left_indicator\u001b[39m\u001b[33m\"\u001b[39m] = \u001b[32m1\u001b[39m\n",
      "\u001b[36mFile \u001b[39m\u001b[32m/opt/miniconda3/lib/python3.13/site-packages/pandas/core/generic.py:6811\u001b[39m, in \u001b[36mNDFrame.copy\u001b[39m\u001b[34m(self, deep)\u001b[39m\n\u001b[32m   6662\u001b[39m \u001b[38;5;129m@final\u001b[39m\n\u001b[32m   6663\u001b[39m \u001b[38;5;28;01mdef\u001b[39;00m\u001b[38;5;250m \u001b[39m\u001b[34mcopy\u001b[39m(\u001b[38;5;28mself\u001b[39m, deep: bool_t | \u001b[38;5;28;01mNone\u001b[39;00m = \u001b[38;5;28;01mTrue\u001b[39;00m) -> Self:\n\u001b[32m   6664\u001b[39m \u001b[38;5;250m    \u001b[39m\u001b[33;03m\"\"\"\u001b[39;00m\n\u001b[32m   6665\u001b[39m \u001b[33;03m    Make a copy of this object's indices and data.\u001b[39;00m\n\u001b[32m   6666\u001b[39m \n\u001b[32m   (...)\u001b[39m\u001b[32m   6809\u001b[39m \u001b[33;03m    dtype: int64\u001b[39;00m\n\u001b[32m   6810\u001b[39m \u001b[33;03m    \"\"\"\u001b[39;00m\n\u001b[32m-> \u001b[39m\u001b[32m6811\u001b[39m     data = \u001b[38;5;28mself\u001b[39m._mgr.copy(deep=deep)\n\u001b[32m   6812\u001b[39m     \u001b[38;5;28mself\u001b[39m._clear_item_cache()\n\u001b[32m   6813\u001b[39m     \u001b[38;5;28;01mreturn\u001b[39;00m \u001b[38;5;28mself\u001b[39m._constructor_from_mgr(data, axes=data.axes).__finalize__(\n\u001b[32m   6814\u001b[39m         \u001b[38;5;28mself\u001b[39m, method=\u001b[33m\"\u001b[39m\u001b[33mcopy\u001b[39m\u001b[33m\"\u001b[39m\n\u001b[32m   6815\u001b[39m     )\n",
      "\u001b[36mFile \u001b[39m\u001b[32m/opt/miniconda3/lib/python3.13/site-packages/pandas/core/internals/managers.py:593\u001b[39m, in \u001b[36mBaseBlockManager.copy\u001b[39m\u001b[34m(self, deep)\u001b[39m\n\u001b[32m    590\u001b[39m     \u001b[38;5;28;01melse\u001b[39;00m:\n\u001b[32m    591\u001b[39m         new_axes = \u001b[38;5;28mlist\u001b[39m(\u001b[38;5;28mself\u001b[39m.axes)\n\u001b[32m--> \u001b[39m\u001b[32m593\u001b[39m res = \u001b[38;5;28mself\u001b[39m.apply(\u001b[33m\"\u001b[39m\u001b[33mcopy\u001b[39m\u001b[33m\"\u001b[39m, deep=deep)\n\u001b[32m    594\u001b[39m res.axes = new_axes\n\u001b[32m    596\u001b[39m \u001b[38;5;28;01mif\u001b[39;00m \u001b[38;5;28mself\u001b[39m.ndim > \u001b[32m1\u001b[39m:\n\u001b[32m    597\u001b[39m     \u001b[38;5;66;03m# Avoid needing to re-compute these\u001b[39;00m\n",
      "\u001b[36mFile \u001b[39m\u001b[32m/opt/miniconda3/lib/python3.13/site-packages/pandas/core/internals/managers.py:363\u001b[39m, in \u001b[36mBaseBlockManager.apply\u001b[39m\u001b[34m(self, f, align_keys, **kwargs)\u001b[39m\n\u001b[32m    361\u001b[39m         applied = b.apply(f, **kwargs)\n\u001b[32m    362\u001b[39m     \u001b[38;5;28;01melse\u001b[39;00m:\n\u001b[32m--> \u001b[39m\u001b[32m363\u001b[39m         applied = \u001b[38;5;28mgetattr\u001b[39m(b, f)(**kwargs)\n\u001b[32m    364\u001b[39m     result_blocks = extend_blocks(applied, result_blocks)\n\u001b[32m    366\u001b[39m out = \u001b[38;5;28mtype\u001b[39m(\u001b[38;5;28mself\u001b[39m).from_blocks(result_blocks, \u001b[38;5;28mself\u001b[39m.axes)\n",
      "\u001b[36mFile \u001b[39m\u001b[32m/opt/miniconda3/lib/python3.13/site-packages/pandas/core/internals/blocks.py:796\u001b[39m, in \u001b[36mBlock.copy\u001b[39m\u001b[34m(self, deep)\u001b[39m\n\u001b[32m    794\u001b[39m refs: BlockValuesRefs | \u001b[38;5;28;01mNone\u001b[39;00m\n\u001b[32m    795\u001b[39m \u001b[38;5;28;01mif\u001b[39;00m deep:\n\u001b[32m--> \u001b[39m\u001b[32m796\u001b[39m     values = values.copy()\n\u001b[32m    797\u001b[39m     refs = \u001b[38;5;28;01mNone\u001b[39;00m\n\u001b[32m    798\u001b[39m \u001b[38;5;28;01melse\u001b[39;00m:\n",
      "\u001b[31mKeyboardInterrupt\u001b[39m: "
     ]
    }
   ],
   "source": [
    "df_order_history = df_orders_products_prior_products_merged.merge(\n",
    "    df_customers,\n",
    "    on='user_id',\n",
    "    how='left',  # Use left join to avoid explosion\n",
    "    indicator='merge_flag_customer'\n",
    ")"
   ]
  },
  {
   "cell_type": "code",
   "execution_count": null,
   "id": "8e0f3a81-18a3-42c8-95d6-d6810e83fe77",
   "metadata": {},
   "outputs": [],
   "source": [
    "df_order_history.head()"
   ]
  },
  {
   "cell_type": "code",
   "execution_count": null,
   "id": "497f414c-1a3c-4029-9925-2ce0ed041afe",
   "metadata": {},
   "outputs": [],
   "source": [
    "df_order_history['merge_flag_customer'].value_counts() # checking how data was merged"
   ]
  },
  {
   "cell_type": "code",
   "execution_count": null,
   "id": "44943cb2-ef06-414b-88f7-915affa8b706",
   "metadata": {},
   "outputs": [],
   "source": [
    "print(df_order_history.duplicated().sum()) # duplicates check "
   ]
  },
  {
   "cell_type": "markdown",
   "id": "e44eb40e-5519-470b-9eed-b71e15ecbad9",
   "metadata": {},
   "source": [
    "## Imports"
   ]
  },
  {
   "cell_type": "code",
   "execution_count": null,
   "id": "bcfb0e38-0b62-48ab-9463-c80d944d3f64",
   "metadata": {},
   "outputs": [],
   "source": [
    "df_order_history.to_csv(os.path.join(path, '02 Data','Clean Data', 'order_history.csv'))"
   ]
  },
  {
   "cell_type": "code",
   "execution_count": null,
   "id": "0beaafed-4b2e-4654-b74b-95b4f692261e",
   "metadata": {},
   "outputs": [],
   "source": [
    "df_order_history.to_pickle(os.path.join(path, '02 Data','Clean Data', 'order_history.pkl'))"
   ]
  },
  {
   "cell_type": "code",
   "execution_count": null,
   "id": "91da9048-3f68-452a-afc0-6fe710b66c3a",
   "metadata": {},
   "outputs": [],
   "source": [
    "df_orders_products_prior_products_merged.to_csv(os.path.join(path, '02 Data','Clean Data', 'order_history_no_customer.csv'))"
   ]
  },
  {
   "cell_type": "code",
   "execution_count": null,
   "id": "7eb20077-1047-4e0f-a3f6-055a6330afee",
   "metadata": {},
   "outputs": [],
   "source": [
    "df_orders_products_prior_products_merged.to_pickle(os.path.join(path, '02 Data','Clean Data', 'order_history_no_customer.pkl'))"
   ]
  },
  {
   "cell_type": "code",
   "execution_count": null,
   "id": "c9d2de88-8628-429e-9c58-9c9044dc2cdd",
   "metadata": {},
   "outputs": [],
   "source": []
  }
 ],
 "metadata": {
  "kernelspec": {
   "display_name": "Python [conda env:base] *",
   "language": "python",
   "name": "conda-base-py"
  },
  "language_info": {
   "codemirror_mode": {
    "name": "ipython",
    "version": 3
   },
   "file_extension": ".py",
   "mimetype": "text/x-python",
   "name": "python",
   "nbconvert_exporter": "python",
   "pygments_lexer": "ipython3",
   "version": "3.13.2"
  }
 },
 "nbformat": 4,
 "nbformat_minor": 5
}

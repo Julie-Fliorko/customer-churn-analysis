{
 "cells": [
  {
   "cell_type": "markdown",
   "id": "f97a6d62-ecb9-4572-a0a4-0d394e9e06f6",
   "metadata": {},
   "source": [
    "# Imports"
   ]
  },
  {
   "cell_type": "code",
   "execution_count": 1,
   "id": "ac913f66-fbce-4dee-9846-7a11b0494de0",
   "metadata": {},
   "outputs": [],
   "source": [
    "# Libraries\n",
    "import pandas as pd\n",
    "import numpy as np\n",
    "import os"
   ]
  },
  {
   "cell_type": "code",
   "execution_count": 2,
   "id": "1659d634-c3d9-4da0-8876-eb9b7e2b8bac",
   "metadata": {},
   "outputs": [],
   "source": [
    "# Files\n",
    "path = os.path.expanduser('~/Desktop/CareerFoundry/2.4/4.10.') # path to the root folder\n",
    "\n",
    "### Products\n",
    "df_products = pd.read_pickle(os.path.join(path, '02 Data', 'Clean Data', 'products.pkl'))\n",
    "### Orders\n",
    "df_orders = pd.read_pickle(os.path.join(path, '02 Data', 'Clean Data', 'orders.pkl')) \n",
    "### Customers\n",
    "df_customers = pd.read_pickle(os.path.join(path, '02 Data', 'Clean Data','customers.pkl'))\n",
    "### Departments\n",
    "df_departments = pd.read_pickle(os.path.join(path, '02 Data', 'Clean Data', 'departments.pkl'))\n",
    "### Prior Orders\n",
    "df_orders_prior= pd.read_pickle(os.path.join(path, '02 Data', 'Clean Data', 'orders_products_prior.pkl'))"
   ]
  },
  {
   "cell_type": "markdown",
   "id": "c7d03be4-05ea-4441-8a4c-6b61c7663a1f",
   "metadata": {},
   "source": [
    "## Products"
   ]
  },
  {
   "cell_type": "code",
   "execution_count": 3,
   "id": "3467f009-37a8-4f9a-83fa-6e34e48c308a",
   "metadata": {},
   "outputs": [
    {
     "data": {
      "text/html": [
       "<div>\n",
       "<style scoped>\n",
       "    .dataframe tbody tr th:only-of-type {\n",
       "        vertical-align: middle;\n",
       "    }\n",
       "\n",
       "    .dataframe tbody tr th {\n",
       "        vertical-align: top;\n",
       "    }\n",
       "\n",
       "    .dataframe thead th {\n",
       "        text-align: right;\n",
       "    }\n",
       "</style>\n",
       "<table border=\"1\" class=\"dataframe\">\n",
       "  <thead>\n",
       "    <tr style=\"text-align: right;\">\n",
       "      <th></th>\n",
       "      <th>product_id</th>\n",
       "      <th>product_name</th>\n",
       "      <th>aisle_id</th>\n",
       "      <th>department_id</th>\n",
       "      <th>prices</th>\n",
       "    </tr>\n",
       "  </thead>\n",
       "  <tbody>\n",
       "    <tr>\n",
       "      <th>0</th>\n",
       "      <td>1</td>\n",
       "      <td>Chocolate Sandwich Cookies</td>\n",
       "      <td>61</td>\n",
       "      <td>19</td>\n",
       "      <td>5.8</td>\n",
       "    </tr>\n",
       "    <tr>\n",
       "      <th>1</th>\n",
       "      <td>2</td>\n",
       "      <td>All-Seasons Salt</td>\n",
       "      <td>104</td>\n",
       "      <td>13</td>\n",
       "      <td>9.3</td>\n",
       "    </tr>\n",
       "    <tr>\n",
       "      <th>2</th>\n",
       "      <td>3</td>\n",
       "      <td>Robust Golden Unsweetened Oolong Tea</td>\n",
       "      <td>94</td>\n",
       "      <td>7</td>\n",
       "      <td>4.5</td>\n",
       "    </tr>\n",
       "    <tr>\n",
       "      <th>3</th>\n",
       "      <td>4</td>\n",
       "      <td>Smart Ones Classic Favorites Mini Rigatoni Wit...</td>\n",
       "      <td>38</td>\n",
       "      <td>1</td>\n",
       "      <td>10.5</td>\n",
       "    </tr>\n",
       "    <tr>\n",
       "      <th>4</th>\n",
       "      <td>5</td>\n",
       "      <td>Green Chile Anytime Sauce</td>\n",
       "      <td>5</td>\n",
       "      <td>13</td>\n",
       "      <td>4.3</td>\n",
       "    </tr>\n",
       "  </tbody>\n",
       "</table>\n",
       "</div>"
      ],
      "text/plain": [
       "  product_id                                       product_name aisle_id  \\\n",
       "0          1                         Chocolate Sandwich Cookies       61   \n",
       "1          2                                   All-Seasons Salt      104   \n",
       "2          3               Robust Golden Unsweetened Oolong Tea       94   \n",
       "3          4  Smart Ones Classic Favorites Mini Rigatoni Wit...       38   \n",
       "4          5                          Green Chile Anytime Sauce        5   \n",
       "\n",
       "  department_id  prices  \n",
       "0            19     5.8  \n",
       "1            13     9.3  \n",
       "2             7     4.5  \n",
       "3             1    10.5  \n",
       "4            13     4.3  "
      ]
     },
     "execution_count": 3,
     "metadata": {},
     "output_type": "execute_result"
    }
   ],
   "source": [
    "df_products.head()"
   ]
  },
  {
   "cell_type": "markdown",
   "id": "179c0c9a-06d3-4ec8-80ce-1c70edd763e7",
   "metadata": {},
   "source": [
    "### Univariate Analysis"
   ]
  },
  {
   "cell_type": "code",
   "execution_count": 4,
   "id": "519886af-01fb-4080-920d-3294962ae925",
   "metadata": {},
   "outputs": [
    {
     "data": {
      "text/plain": [
       "department_id\n",
       "11    6560\n",
       "19    6264\n",
       "13    5369\n",
       "7     4363\n",
       "1     4006\n",
       "16    3445\n",
       "17    3085\n",
       "15    2092\n",
       "9     1858\n",
       "4     1684\n",
       "3     1515\n",
       "20    1322\n",
       "21    1258\n",
       "6     1139\n",
       "14    1114\n",
       "18    1081\n",
       "5     1054\n",
       "8      971\n",
       "12     906\n",
       "2      548\n",
       "10      38\n",
       "Name: count, dtype: int64"
      ]
     },
     "execution_count": 4,
     "metadata": {},
     "output_type": "execute_result"
    }
   ],
   "source": [
    "df_products['department_id'].value_counts()"
   ]
  },
  {
   "cell_type": "code",
   "execution_count": 5,
   "id": "b65f5c70-36b3-4c18-885d-b64568859657",
   "metadata": {},
   "outputs": [
    {
     "data": {
      "image/png": "[encoded data removed]",
      "text/plain": [
       "<Figure size 1000x800 with 1 Axes>"
      ]
     },
     "metadata": {},
     "output_type": "display_data"
    }
   ],
   "source": [
    "plt = df_products.hist(figsize=(10, 8), bins=15)"
   ]
  },
  {
   "cell_type": "code",
   "execution_count": 6,
   "id": "960b9f6a-9c63-4aad-ac21-410f8fe2c2e3",
   "metadata": {},
   "outputs": [
    {
     "data": {
      "text/plain": [
       "aisle_id\n",
       "100    1258\n",
       "45     1246\n",
       "37     1091\n",
       "47     1038\n",
       "120    1024\n",
       "       ... \n",
       "113      47\n",
       "82       44\n",
       "32       32\n",
       "68       26\n",
       "18       12\n",
       "Name: count, Length: 134, dtype: int64"
      ]
     },
     "execution_count": 6,
     "metadata": {},
     "output_type": "execute_result"
    }
   ],
   "source": [
    "df_products['aisle_id'].value_counts()"
   ]
  },
  {
   "cell_type": "code",
   "execution_count": null,
   "id": "8d225f6d-06b9-466c-8b56-cf6c1c797c9a",
   "metadata": {},
   "outputs": [],
   "source": []
  }
 ],
 "metadata": {
  "kernelspec": {
   "display_name": "Python [conda env:base] *",
   "language": "python",
   "name": "conda-base-py"
  },
  "language_info": {
   "codemirror_mode": {
    "name": "ipython",
    "version": 3
   },
   "file_extension": ".py",
   "mimetype": "text/x-python",
   "name": "python",
   "nbconvert_exporter": "python",
   "pygments_lexer": "ipython3",
   "version": "3.13.2"
  }
 },
 "nbformat": 4,
 "nbformat_minor": 5
}

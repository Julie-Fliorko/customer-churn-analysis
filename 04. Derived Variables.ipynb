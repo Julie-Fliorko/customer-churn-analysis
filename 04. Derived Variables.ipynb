{
 "cells": [
  {
   "cell_type": "markdown",
   "id": "dc6e9a20-130c-45f7-a0e1-8fd426af8226",
   "metadata": {},
   "source": [
    "## Imports"
   ]
  },
  {
   "cell_type": "code",
   "execution_count": 17,
   "id": "3629d75e-9cde-4ab2-9aa1-12835c37d620",
   "metadata": {},
   "outputs": [],
   "source": [
    "# Libraries\n",
    "import pandas as pd\n",
    "import numpy as np\n",
    "import os"
   ]
  },
  {
   "cell_type": "code",
   "execution_count": 18,
   "id": "98d6838d-c072-4837-bb3a-81384ba49011",
   "metadata": {},
   "outputs": [],
   "source": [
    "# Files\n",
    "path = os.path.expanduser('~/Desktop/CareerFoundry/2.4/4.10.') # path to the root folder\n",
    "\n",
    "### Order History\n",
    "df_order_history = pd.read_pickle(os.path.join(path, '02 Data', 'Clean Data', 'order_history.pkl'))\n",
    "### Order History No Customer Data\n",
    "df_order_history_no_customer = pd.read_pickle(os.path.join(path, '02 Data', 'Clean Data', 'order_history_no_customer.pkl')) "
   ]
  },
  {
   "cell_type": "code",
   "execution_count": 19,
   "id": "e453e696-2494-41d5-8521-974fa6898222",
   "metadata": {},
   "outputs": [
    {
     "data": {
      "text/html": [
       "<div>\n",
       "<style scoped>\n",
       "    .dataframe tbody tr th:only-of-type {\n",
       "        vertical-align: middle;\n",
       "    }\n",
       "\n",
       "    .dataframe tbody tr th {\n",
       "        vertical-align: top;\n",
       "    }\n",
       "\n",
       "    .dataframe thead th {\n",
       "        text-align: right;\n",
       "    }\n",
       "</style>\n",
       "<table border=\"1\" class=\"dataframe\">\n",
       "  <thead>\n",
       "    <tr style=\"text-align: right;\">\n",
       "      <th></th>\n",
       "      <th>order_id</th>\n",
       "      <th>user_id</th>\n",
       "      <th>order_number</th>\n",
       "      <th>order_day_of_week</th>\n",
       "      <th>order_hour_of_day</th>\n",
       "      <th>days_since_prior_order</th>\n",
       "      <th>product_id</th>\n",
       "      <th>add_to_cart_order</th>\n",
       "      <th>reordered</th>\n",
       "      <th>merge_flag_orders_prod_prior</th>\n",
       "      <th>...</th>\n",
       "      <th>merge_flag_orders_products_prior_products</th>\n",
       "      <th>Unnamed: 0</th>\n",
       "      <th>gender</th>\n",
       "      <th>state</th>\n",
       "      <th>date_joined</th>\n",
       "      <th>dependants</th>\n",
       "      <th>family_status</th>\n",
       "      <th>age_group</th>\n",
       "      <th>income_bracket</th>\n",
       "      <th>merge_flag_customer</th>\n",
       "    </tr>\n",
       "  </thead>\n",
       "  <tbody>\n",
       "  </tbody>\n",
       "</table>\n",
       "<p>0 rows × 24 columns</p>\n",
       "</div>"
      ],
      "text/plain": [
       "Empty DataFrame\n",
       "Columns: [order_id, user_id, order_number, order_day_of_week, order_hour_of_day, days_since_prior_order, product_id, add_to_cart_order, reordered, merge_flag_orders_prod_prior, product_name, aisle_id, department_id, prices, merge_flag_orders_products_prior_products, Unnamed: 0, gender, state, date_joined, dependants, family_status, age_group, income_bracket, merge_flag_customer]\n",
       "Index: []\n",
       "\n",
       "[0 rows x 24 columns]"
      ]
     },
     "execution_count": 19,
     "metadata": {},
     "output_type": "execute_result"
    }
   ],
   "source": [
    "df_order_history.head()"
   ]
  },
  {
   "cell_type": "markdown",
   "id": "801964c9-a082-44a2-9743-d2285779246d",
   "metadata": {},
   "source": [
    "### Price Range"
   ]
  },
  {
   "cell_type": "code",
   "execution_count": 15,
   "id": "9e1676d3-97f7-4358-a626-7099121fd8b4",
   "metadata": {},
   "outputs": [
    {
     "data": {
      "text/html": [
       "<div>\n",
       "<style scoped>\n",
       "    .dataframe tbody tr th:only-of-type {\n",
       "        vertical-align: middle;\n",
       "    }\n",
       "\n",
       "    .dataframe tbody tr th {\n",
       "        vertical-align: top;\n",
       "    }\n",
       "\n",
       "    .dataframe thead th {\n",
       "        text-align: right;\n",
       "    }\n",
       "</style>\n",
       "<table border=\"1\" class=\"dataframe\">\n",
       "  <thead>\n",
       "    <tr style=\"text-align: right;\">\n",
       "      <th></th>\n",
       "      <th>order_id</th>\n",
       "      <th>user_id</th>\n",
       "      <th>order_number</th>\n",
       "      <th>order_day_of_week</th>\n",
       "      <th>order_hour_of_day</th>\n",
       "      <th>days_since_prior_order</th>\n",
       "      <th>product_id</th>\n",
       "      <th>add_to_cart_order</th>\n",
       "      <th>reordered</th>\n",
       "      <th>merge_flag_orders_prod_prior</th>\n",
       "      <th>...</th>\n",
       "      <th>merge_flag_orders_products_prior_products</th>\n",
       "      <th>Unnamed: 0</th>\n",
       "      <th>gender</th>\n",
       "      <th>state</th>\n",
       "      <th>date_joined</th>\n",
       "      <th>dependants</th>\n",
       "      <th>family_status</th>\n",
       "      <th>age_group</th>\n",
       "      <th>income_bracket</th>\n",
       "      <th>merge_flag_customer</th>\n",
       "    </tr>\n",
       "  </thead>\n",
       "  <tbody>\n",
       "  </tbody>\n",
       "</table>\n",
       "<p>0 rows × 24 columns</p>\n",
       "</div>"
      ],
      "text/plain": [
       "Empty DataFrame\n",
       "Columns: [order_id, user_id, order_number, order_day_of_week, order_hour_of_day, days_since_prior_order, product_id, add_to_cart_order, reordered, merge_flag_orders_prod_prior, product_name, aisle_id, department_id, prices, merge_flag_orders_products_prior_products, Unnamed: 0, gender, state, date_joined, dependants, family_status, age_group, income_bracket, merge_flag_customer]\n",
       "Index: []\n",
       "\n",
       "[0 rows x 24 columns]"
      ]
     },
     "execution_count": 15,
     "metadata": {},
     "output_type": "execute_result"
    }
   ],
   "source": [
    "# Create a copy to prevent SettingWithCopyWarning\n",
    "df = df_order_history[:1000000]\n",
    "df.head()"
   ]
  },
  {
   "cell_type": "code",
   "execution_count": 13,
   "id": "709b2be1-b09e-4451-8c9a-13cab5f79eaa",
   "metadata": {},
   "outputs": [],
   "source": [
    "# Define function to label price ranges\n",
    "def price_label(row):\n",
    "    if row['prices'] <= 5:\n",
    "        return 'Low'\n",
    "    elif row['prices'] <= 15:\n",
    "        return 'Mid'\n",
    "    elif row['prices'] > 15:\n",
    "        return 'High'\n",
    "    else:\n",
    "        return 'Err'"
   ]
  },
  {
   "cell_type": "code",
   "execution_count": 14,
   "id": "f4555d79-2311-4653-a9dd-27f94f12f75d",
   "metadata": {},
   "outputs": [
    {
     "data": {
      "text/html": [
       "<div>\n",
       "<style scoped>\n",
       "    .dataframe tbody tr th:only-of-type {\n",
       "        vertical-align: middle;\n",
       "    }\n",
       "\n",
       "    .dataframe tbody tr th {\n",
       "        vertical-align: top;\n",
       "    }\n",
       "\n",
       "    .dataframe thead th {\n",
       "        text-align: right;\n",
       "    }\n",
       "</style>\n",
       "<table border=\"1\" class=\"dataframe\">\n",
       "  <thead>\n",
       "    <tr style=\"text-align: right;\">\n",
       "      <th></th>\n",
       "      <th>order_id</th>\n",
       "      <th>user_id</th>\n",
       "      <th>order_number</th>\n",
       "      <th>order_day_of_week</th>\n",
       "      <th>order_hour_of_day</th>\n",
       "      <th>days_since_prior_order</th>\n",
       "      <th>product_id</th>\n",
       "      <th>add_to_cart_order</th>\n",
       "      <th>reordered</th>\n",
       "      <th>merge_flag_orders_prod_prior</th>\n",
       "      <th>...</th>\n",
       "      <th>Unnamed: 0</th>\n",
       "      <th>gender</th>\n",
       "      <th>state</th>\n",
       "      <th>date_joined</th>\n",
       "      <th>dependants</th>\n",
       "      <th>family_status</th>\n",
       "      <th>age_group</th>\n",
       "      <th>income_bracket</th>\n",
       "      <th>merge_flag_customer</th>\n",
       "      <th>price_range</th>\n",
       "    </tr>\n",
       "  </thead>\n",
       "  <tbody>\n",
       "  </tbody>\n",
       "</table>\n",
       "<p>0 rows × 25 columns</p>\n",
       "</div>"
      ],
      "text/plain": [
       "Empty DataFrame\n",
       "Columns: [order_id, user_id, order_number, order_day_of_week, order_hour_of_day, days_since_prior_order, product_id, add_to_cart_order, reordered, merge_flag_orders_prod_prior, product_name, aisle_id, department_id, prices, merge_flag_orders_products_prior_products, Unnamed: 0, gender, state, date_joined, dependants, family_status, age_group, income_bracket, merge_flag_customer, price_range]\n",
       "Index: []\n",
       "\n",
       "[0 rows x 25 columns]"
      ]
     },
     "execution_count": 14,
     "metadata": {},
     "output_type": "execute_result"
    }
   ],
   "source": [
    "df = df.copy()  # ensures it's not a view\n",
    "df['price_range'] = df.apply(price_label, axis=1)\n",
    "\n",
    "df.head() # checking if it worked #1"
   ]
  },
  {
   "cell_type": "code",
   "execution_count": 9,
   "id": "d65841ea-ab20-4c1f-b1fc-eb22cbfacc9e",
   "metadata": {},
   "outputs": [
    {
     "name": "stdout",
     "output_type": "stream",
     "text": [
      "Series([], Name: count, dtype: int64)\n"
     ]
    }
   ],
   "source": [
    "# Quick validation\n",
    "print(df['price_range'].value_counts(dropna=False))"
   ]
  },
  {
   "cell_type": "code",
   "execution_count": 7,
   "id": "22792aa1-9377-456d-b6f8-0f9ab2dbab44",
   "metadata": {},
   "outputs": [
    {
     "ename": "ValueError",
     "evalue": "cannot set a frame with no defined index and a scalar",
     "output_type": "error",
     "traceback": [
      "\u001b[31m---------------------------------------------------------------------------\u001b[39m",
      "\u001b[31mValueError\u001b[39m                                Traceback (most recent call last)",
      "\u001b[36mCell\u001b[39m\u001b[36m \u001b[39m\u001b[32mIn[7]\u001b[39m\u001b[32m, line 2\u001b[39m\n\u001b[32m      1\u001b[39m \u001b[38;5;66;03m# same functionality, but using .loc instead of the function\u001b[39;00m\n\u001b[32m----> \u001b[39m\u001b[32m2\u001b[39m df.loc[df[\u001b[33m'\u001b[39m\u001b[33mprices\u001b[39m\u001b[33m'\u001b[39m] > \u001b[32m15\u001b[39m, \u001b[33m'\u001b[39m\u001b[33mprice_range_loc\u001b[39m\u001b[33m'\u001b[39m] = \u001b[33m'\u001b[39m\u001b[33mHigh\u001b[39m\u001b[33m'\u001b[39m\n\u001b[32m      3\u001b[39m df.loc[(df[\u001b[33m'\u001b[39m\u001b[33mprices\u001b[39m\u001b[33m'\u001b[39m] <= \u001b[32m15\u001b[39m) & (df[\u001b[33m'\u001b[39m\u001b[33mprices\u001b[39m\u001b[33m'\u001b[39m] > \u001b[32m5\u001b[39m), \u001b[33m'\u001b[39m\u001b[33mprice_range_loc\u001b[39m\u001b[33m'\u001b[39m] = \u001b[33m'\u001b[39m\u001b[33mMid\u001b[39m\u001b[33m'\u001b[39m \n\u001b[32m      4\u001b[39m df.loc[df[\u001b[33m'\u001b[39m\u001b[33mprices\u001b[39m\u001b[33m'\u001b[39m] <= \u001b[32m5\u001b[39m, \u001b[33m'\u001b[39m\u001b[33mprice_range_loc\u001b[39m\u001b[33m'\u001b[39m] = \u001b[33m'\u001b[39m\u001b[33mLow\u001b[39m\u001b[33m'\u001b[39m\n",
      "\u001b[36mFile \u001b[39m\u001b[32m/opt/miniconda3/lib/python3.13/site-packages/pandas/core/indexing.py:911\u001b[39m, in \u001b[36m_LocationIndexer.__setitem__\u001b[39m\u001b[34m(self, key, value)\u001b[39m\n\u001b[32m    908\u001b[39m \u001b[38;5;28mself\u001b[39m._has_valid_setitem_indexer(key)\n\u001b[32m    910\u001b[39m iloc = \u001b[38;5;28mself\u001b[39m \u001b[38;5;28;01mif\u001b[39;00m \u001b[38;5;28mself\u001b[39m.name == \u001b[33m\"\u001b[39m\u001b[33miloc\u001b[39m\u001b[33m\"\u001b[39m \u001b[38;5;28;01melse\u001b[39;00m \u001b[38;5;28mself\u001b[39m.obj.iloc\n\u001b[32m--> \u001b[39m\u001b[32m911\u001b[39m iloc._setitem_with_indexer(indexer, value, \u001b[38;5;28mself\u001b[39m.name)\n",
      "\u001b[36mFile \u001b[39m\u001b[32m/opt/miniconda3/lib/python3.13/site-packages/pandas/core/indexing.py:1847\u001b[39m, in \u001b[36m_iLocIndexer._setitem_with_indexer\u001b[39m\u001b[34m(self, indexer, value, name)\u001b[39m\n\u001b[32m   1845\u001b[39m \u001b[38;5;28;01mif\u001b[39;00m \u001b[38;5;129;01mnot\u001b[39;00m \u001b[38;5;28mlen\u001b[39m(\u001b[38;5;28mself\u001b[39m.obj):\n\u001b[32m   1846\u001b[39m     \u001b[38;5;28;01mif\u001b[39;00m \u001b[38;5;129;01mnot\u001b[39;00m is_list_like_indexer(value):\n\u001b[32m-> \u001b[39m\u001b[32m1847\u001b[39m         \u001b[38;5;28;01mraise\u001b[39;00m \u001b[38;5;167;01mValueError\u001b[39;00m(\n\u001b[32m   1848\u001b[39m             \u001b[33m\"\u001b[39m\u001b[33mcannot set a frame with no \u001b[39m\u001b[33m\"\u001b[39m\n\u001b[32m   1849\u001b[39m             \u001b[33m\"\u001b[39m\u001b[33mdefined index and a scalar\u001b[39m\u001b[33m\"\u001b[39m\n\u001b[32m   1850\u001b[39m         )\n\u001b[32m   1851\u001b[39m     \u001b[38;5;28mself\u001b[39m.obj[key] = value\n\u001b[32m   1852\u001b[39m     \u001b[38;5;28;01mreturn\u001b[39;00m\n",
      "\u001b[31mValueError\u001b[39m: cannot set a frame with no defined index and a scalar"
     ]
    }
   ],
   "source": [
    "# same functionality, but using .loc instead of the function\n",
    "df.loc[df['prices'] > 15, 'price_range_loc'] = 'High'\n",
    "df.loc[(df['prices'] <= 15) & (df['prices'] > 5), 'price_range_loc'] = 'Mid' \n",
    "df.loc[df['prices'] <= 5, 'price_range_loc'] = 'Low'\n",
    "df['price_range'].value_counts(dropna=False)"
   ]
  },
  {
   "cell_type": "markdown",
   "id": "fecc48a6-455f-4d23-ab58-2a1d0de56afa",
   "metadata": {},
   "source": [
    "## Busiest Day"
   ]
  },
  {
   "cell_type": "code",
   "execution_count": null,
   "id": "30a63f51-971f-4859-8a8c-50aac5bdcdf4",
   "metadata": {},
   "outputs": [],
   "source": [
    "result = []\n",
    "# using a for loop to determine the busiest days of the week and labeling them \n",
    "for value in df[\"order_day_of_week\"]:\n",
    "  if value == 0:\n",
    "    result.append(\"Busiest day\")\n",
    "  elif value == 4:\n",
    "    result.append(\"Least busy\")\n",
    "  else:\n",
    "    result.append(\"Regularly busy\")"
   ]
  },
  {
   "cell_type": "code",
   "execution_count": null,
   "id": "ac8354a9-f2f5-4f7c-879b-e92828ec9d40",
   "metadata": {},
   "outputs": [],
   "source": [
    "df['busiest_day'] = result # adding a new column to our dataframe with busiest days of the week"
   ]
  },
  {
   "cell_type": "code",
   "execution_count": null,
   "id": "85c3a129-dd7a-4e83-a429-a2b564874478",
   "metadata": {},
   "outputs": [],
   "source": [
    "df.head()"
   ]
  },
  {
   "cell_type": "code",
   "execution_count": null,
   "id": "8834385b-32ca-46e9-9d14-baab11cdcb37",
   "metadata": {},
   "outputs": [],
   "source": [
    "# change of requirements now days can 5 levels of business: The busiest day, Second busiest day, \n",
    "#The least busy day, Second to least busy day, Normal day\n",
    "result.clear()\n",
    "for value in df[\"order_hour_of_day\"]:\n",
    "    if value == 0:\n",
    "        result.append(\"The busiest day\")\n",
    "    elif value == 2:\n",
    "        result.append(\"Second busiest day\")\n",
    "    elif value == 6:\n",
    "        result.append(\"The least busy day\")\n",
    "    elif value == 5:\n",
    "        result.append(\"Second to least busy day\")\n",
    "    else:\n",
    "        result.append(\"Normal day\")\n",
    "\n",
    "result"
   ]
  },
  {
   "cell_type": "markdown",
   "id": "03e50b5c-155f-4f68-b021-a37c3eedbafb",
   "metadata": {},
   "source": [
    "## Busiest Period of the Day"
   ]
  },
  {
   "cell_type": "code",
   "execution_count": null,
   "id": "f102a32f-399b-43e7-9026-5350fdcf8206",
   "metadata": {},
   "outputs": [],
   "source": [
    "# counted how many orders happened each hour, and broke down by quantiles as low-selling hours and high-selling hours.\n",
    "hourly_orders = df['order_hour_of_day'].value_counts().sort_index()\n",
    "low_threshold = hourly_orders.quantile(0.33)\n",
    "high_threshold = hourly_orders.quantile(0.66) \n",
    "hour_labels = {}\n",
    "\n",
    "for hour, count in hourly_orders.items():\n",
    "    if count <= low_threshold:\n",
    "        hour_labels[hour] = 'Fewest orders'\n",
    "    elif count <= high_threshold:\n",
    "        hour_labels[hour] = 'Average orders'\n",
    "    else:\n",
    "        hour_labels[hour] = 'Most orders'\n",
    "df['busiest_period_of_day'] = df['order_hour_of_day'].map(hour_labels)\n",
    "df['busiest_period_of_day'].value_counts()\n",
    "\n"
   ]
  },
  {
   "cell_type": "code",
   "execution_count": null,
   "id": "78a2bf51-3c52-4511-9c23-bf26907fbddd",
   "metadata": {},
   "outputs": [],
   "source": [
    "df.head()"
   ]
  },
  {
   "cell_type": "markdown",
   "id": "940a59d7-ee4d-4b50-ac9b-cbef0bb8b825",
   "metadata": {},
   "source": [
    "## Loyalty Flag"
   ]
  },
  {
   "cell_type": "code",
   "execution_count": null,
   "id": "4476e099-a2e1-4d41-ab76-1b89f32e7c27",
   "metadata": {},
   "outputs": [],
   "source": [
    "# creating a smaller df with just the relevant columns\n",
    "user_summary = df[['user_id', 'order_number', 'prices']].copy()"
   ]
  },
  {
   "cell_type": "code",
   "execution_count": null,
   "id": "8b6da851-00d7-4eb3-953e-079e1051d241",
   "metadata": {},
   "outputs": [],
   "source": [
    "# max_order per user\n",
    "user_summary['max_order'] = user_summary.groupby('user_id')['order_number'].transform('max')\n"
   ]
  },
  {
   "cell_type": "code",
   "execution_count": null,
   "id": "97a61880-8b90-4026-8430-38a206450feb",
   "metadata": {},
   "outputs": [],
   "source": [
    "# creating loyalty_flag based on max_order\n",
    "user_summary['loyalty_flag'] = 'Other'\n",
    "user_summary.loc[user_summary['max_order'] > 40, 'loyalty_flag'] = 'Loyal customer'\n",
    "user_summary.loc[user_summary['max_order'].between(11, 40), 'loyalty_flag'] = 'Regular customer'\n",
    "user_summary.loc[user_summary['max_order'] <= 10, 'loyalty_flag'] = 'New customer'\n",
    "\n",
    "user_summary['loyalty_flag'] = np.select(\n",
    "    condlist=conditions,\n",
    "    choicelist=choices,\n",
    "    default='Other'  # explicitly set a string default\n",
    ")"
   ]
  },
  {
   "cell_type": "code",
   "execution_count": null,
   "id": "a109f563-8f5e-4c2a-bfe7-3588403531c2",
   "metadata": {},
   "outputs": [],
   "source": [
    "# calculating average price per user (mean_prices)\n",
    "user_summary['mean_prices'] = user_summary.groupby('user_id')['prices'].transform('mean')\n"
   ]
  },
  {
   "cell_type": "code",
   "execution_count": null,
   "id": "5a3b009d-41b5-4330-a2da-329c117068c8",
   "metadata": {},
   "outputs": [],
   "source": [
    "# creating spending_flag\n",
    "user_summary['spending_flag'] = np.where(user_summary['mean_prices'] < 10, 'Low spender', 'High spender')\n"
   ]
  },
  {
   "cell_type": "code",
   "execution_count": null,
   "id": "0f7be9ea-b8d1-4ac5-9cea-ad643888f2d7",
   "metadata": {},
   "outputs": [],
   "source": [
    "# droping duplicates to keep only one row per user\n",
    "user_flags = user_summary[['user_id', 'max_order', 'loyalty_flag', 'mean_prices', 'spending_flag']].drop_duplicates()\n"
   ]
  },
  {
   "cell_type": "code",
   "execution_count": null,
   "id": "1147e39d-3b34-41a7-a43f-18a9b44c1300",
   "metadata": {},
   "outputs": [],
   "source": [
    "# merge back to main DataFrame\n",
    "df = df.merge(user_flags, on='user_id', how='left')"
   ]
  },
  {
   "cell_type": "code",
   "execution_count": null,
   "id": "e51d8de4-a72b-4e14-858e-622eb7afcad4",
   "metadata": {},
   "outputs": [],
   "source": [
    "df['spending_flag'].value_counts() # quick check"
   ]
  },
  {
   "cell_type": "code",
   "execution_count": null,
   "id": "f3bfd1c7-a93c-49cc-a08d-176fb8edec2f",
   "metadata": {},
   "outputs": [],
   "source": [
    "df.to_pickle(os.path.join(path, '02 Data','Exports', 'order_history_derived_top_1000000.pkl'))"
   ]
  },
  {
   "cell_type": "code",
   "execution_count": null,
   "id": "36f7e0a5-0074-4c84-82a5-bab8751a3e5f",
   "metadata": {},
   "outputs": [],
   "source": []
  }
 ],
 "metadata": {
  "kernelspec": {
   "display_name": "Python [conda env:base] *",
   "language": "python",
   "name": "conda-base-py"
  },
  "language_info": {
   "codemirror_mode": {
    "name": "ipython",
    "version": 3
   },
   "file_extension": ".py",
   "mimetype": "text/x-python",
   "name": "python",
   "nbconvert_exporter": "python",
   "pygments_lexer": "ipython3",
   "version": "3.13.2"
  }
 },
 "nbformat": 4,
 "nbformat_minor": 5
}

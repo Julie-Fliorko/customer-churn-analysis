{
 "cells": [
  {
   "cell_type": "markdown",
   "id": "ec2e5fab-db01-4769-9241-6a6c8bec85f5",
   "metadata": {},
   "source": [
    "## Imports"
   ]
  },
  {
   "cell_type": "code",
   "execution_count": 1,
   "id": "0935bcd2-e1cd-4b19-b923-52fdd9526d69",
   "metadata": {},
   "outputs": [],
   "source": [
    "# Libraries\n",
    "import pandas as pd\n",
    "import numpy as np\n",
    "import os\n",
    "import hashlib"
   ]
  },
  {
   "cell_type": "code",
   "execution_count": 17,
   "id": "2915f78c-4acb-4afe-8d58-49af911c21a5",
   "metadata": {},
   "outputs": [],
   "source": [
    "# Files\n",
    "path = os.path.expanduser('~/Desktop/CareerFoundry/2.4/4.10.') # path to the root folder\n",
    "\n",
    "### Orders\n",
    "df_orders = pd.read_csv(os.path.join(path, '02 Data', 'Original Data', 'orders.csv')) \n",
    "### Customers\n",
    "df_customers = pd.read_csv(os.path.join(path, '02 Data', 'Original Data','customers.csv'))"
   ]
  },
  {
   "cell_type": "markdown",
   "id": "6bdcd503-8a04-4d25-9ef9-0b8fd37f2fc6",
   "metadata": {},
   "source": [
    "## PII Cleaning and Anonymization\n",
    "\n",
    "- **First/Last Names** were dropped as direct identifiers.\n",
    "- **User IDs** were SHA-256 hashed to ensure anonymity while preserving the ability to track behavior across datasets.\n",
    "- **Age** was converted into broad age groups.\n",
    "- **Income** was bucketed using quartiles to preserve relative distribution without exposing raw values.\n",
    "- **Date Joined** was shifted from %m/%d/%Y format to %m/%Y to remove tracability.\n",
    "These steps follow data privacy best practices while preserving analytical value for segmentation and modeling."
   ]
  },
  {
   "cell_type": "markdown",
   "id": "a36bae17-161e-4abf-8c20-3c54b29587e2",
   "metadata": {},
   "source": [
    "## Drop direct identifiers "
   ]
  },
  {
   "cell_type": "code",
   "execution_count": 3,
   "id": "99b11aee-dc76-49a1-b822-aabe27a401b0",
   "metadata": {},
   "outputs": [
    {
     "name": "stdout",
     "output_type": "stream",
     "text": [
      "<class 'pandas.core.frame.DataFrame'>\n",
      "RangeIndex: 206209 entries, 0 to 206208\n",
      "Data columns (total 10 columns):\n",
      " #   Column        Non-Null Count   Dtype \n",
      "---  ------        --------------   ----- \n",
      " 0   user_id       206209 non-null  int64 \n",
      " 1   First Name    194950 non-null  object\n",
      " 2   Surnam        206209 non-null  object\n",
      " 3   Gender        206209 non-null  object\n",
      " 4   STATE         206209 non-null  object\n",
      " 5   Age           206209 non-null  int64 \n",
      " 6   date_joined   206209 non-null  object\n",
      " 7   n_dependants  206209 non-null  int64 \n",
      " 8   fam_status    206209 non-null  object\n",
      " 9   income        206209 non-null  int64 \n",
      "dtypes: int64(4), object(6)\n",
      "memory usage: 15.7+ MB\n"
     ]
    }
   ],
   "source": [
    "df_customers.info()"
   ]
  },
  {
   "cell_type": "code",
   "execution_count": 4,
   "id": "8b8b2b24-b073-4895-af27-e61cb7078517",
   "metadata": {},
   "outputs": [],
   "source": [
    "df_customers = df_customers.drop(columns=['First Name', 'Surnam'])"
   ]
  },
  {
   "cell_type": "markdown",
   "id": "17dcd016-58a0-4505-a4c3-5efbd87497e1",
   "metadata": {},
   "source": [
    "## Hash user_id"
   ]
  },
  {
   "cell_type": "code",
   "execution_count": 5,
   "id": "6fc5b222-6288-478d-ab04-1e0da97163aa",
   "metadata": {},
   "outputs": [
    {
     "name": "stdout",
     "output_type": "stream",
     "text": [
      "<class 'pandas.core.frame.DataFrame'>\n",
      "RangeIndex: 3421083 entries, 0 to 3421082\n",
      "Data columns (total 7 columns):\n",
      " #   Column                  Dtype  \n",
      "---  ------                  -----  \n",
      " 0   order_id                int64  \n",
      " 1   user_id                 int64  \n",
      " 2   eval_set                object \n",
      " 3   order_number            int64  \n",
      " 4   order_dow               int64  \n",
      " 5   order_hour_of_day       int64  \n",
      " 6   days_since_prior_order  float64\n",
      "dtypes: float64(1), int64(5), object(1)\n",
      "memory usage: 182.7+ MB\n"
     ]
    }
   ],
   "source": [
    "df_orders.info()"
   ]
  },
  {
   "cell_type": "code",
   "execution_count": 6,
   "id": "46a988c8-0f11-4cba-9dba-4ab8ba6bec99",
   "metadata": {},
   "outputs": [],
   "source": [
    "def hash_id(val):\n",
    "    return hashlib.sha256(str(val).encode()).hexdigest()"
   ]
  },
  {
   "cell_type": "code",
   "execution_count": 7,
   "id": "eebd21a2-dd0b-4551-b242-1a0bc6212c30",
   "metadata": {},
   "outputs": [],
   "source": [
    "df_customers['user_id'] = df_customers['user_id'].apply(hash_id)"
   ]
  },
  {
   "cell_type": "code",
   "execution_count": 8,
   "id": "af3cd2f9-e0c2-4255-99d0-ce602181b81d",
   "metadata": {},
   "outputs": [],
   "source": [
    "df_orders['user_id'] = df_orders['user_id'].apply(hash_id)"
   ]
  },
  {
   "cell_type": "markdown",
   "id": "67be1621-3912-4d33-b284-24598d022a87",
   "metadata": {},
   "source": [
    "## Bucket ages (into 10-year ranges)"
   ]
  },
  {
   "cell_type": "code",
   "execution_count": 9,
   "id": "65260a35-eb27-4a57-86e7-4c50d7190130",
   "metadata": {},
   "outputs": [],
   "source": [
    "df_customers['age_group'] = pd.cut(\n",
    "    df_customers['Age'],\n",
    "    bins=[0, 18, 25, 35, 45, 55, 65, np.inf],\n",
    "    labels=['0-18', '19-25', '26-35', '36-45', '46-55', '56-65', '65+']\n",
    ")"
   ]
  },
  {
   "cell_type": "code",
   "execution_count": 10,
   "id": "13301fa2-e972-4651-8f82-765643c4713d",
   "metadata": {},
   "outputs": [],
   "source": [
    "df_customers = df_customers.drop(columns=['Age'])"
   ]
  },
  {
   "cell_type": "markdown",
   "id": "37f52025-c225-455c-b21b-0a9cbe2aa841",
   "metadata": {},
   "source": [
    "## Bucket yearly income into quartiles"
   ]
  },
  {
   "cell_type": "code",
   "execution_count": 11,
   "id": "60f63a6c-8432-4109-aad1-331c28ab4dd1",
   "metadata": {},
   "outputs": [],
   "source": [
    "df_customers['income_bracket'] = pd.qcut(\n",
    "    df_customers['income'], \n",
    "    q=4, \n",
    "    labels=['Low', 'Mid-low', 'Mid-high', 'High']\n",
    ")"
   ]
  },
  {
   "cell_type": "code",
   "execution_count": 12,
   "id": "32a24da0-876b-4d43-8b4e-dd2969a6f1ed",
   "metadata": {},
   "outputs": [],
   "source": [
    "df_customers = df_customers.drop(columns=['income'])"
   ]
  },
  {
   "cell_type": "markdown",
   "id": "3faee260-2025-46e8-aa0f-1bda78668e97",
   "metadata": {},
   "source": [
    "## Change date_joined format to remove exact traceability"
   ]
  },
  {
   "cell_type": "code",
   "execution_count": 13,
   "id": "1db77138-4d4a-4ff3-949f-3579e1a1422d",
   "metadata": {},
   "outputs": [],
   "source": [
    "df_customers['date_joined'] = pd.to_datetime(df_customers['date_joined'])"
   ]
  },
  {
   "cell_type": "code",
   "execution_count": 14,
   "id": "e016f61a-13ba-4a9c-a243-5b4efc80be05",
   "metadata": {},
   "outputs": [],
   "source": [
    "df_customers['date_joined'] = df_customers['date_joined'].dt.strftime('%m/%Y') # changing from %m/%d/%Y to %m/%Y"
   ]
  },
  {
   "cell_type": "code",
   "execution_count": 15,
   "id": "19b04f3b-be49-4e4e-b5ab-3bfc246a9677",
   "metadata": {},
   "outputs": [],
   "source": [
    "df_orders.to_csv(os.path.join(path, '02 Data','Original Data', 'products.csv'))"
   ]
  },
  {
   "cell_type": "code",
   "execution_count": 16,
   "id": "f8017527-ca42-4a4e-9bb4-981453b2a31d",
   "metadata": {},
   "outputs": [],
   "source": [
    "df_customers.to_csv(os.path.join(path, '02 Data','Original Data', 'customers.csv'))"
   ]
  },
  {
   "cell_type": "code",
   "execution_count": null,
   "id": "1590a37e-9b26-46a3-a913-5ede736b7440",
   "metadata": {},
   "outputs": [],
   "source": []
  }
 ],
 "metadata": {
  "kernelspec": {
   "display_name": "Python [conda env:base] *",
   "language": "python",
   "name": "conda-base-py"
  },
  "language_info": {
   "codemirror_mode": {
    "name": "ipython",
    "version": 3
   },
   "file_extension": ".py",
   "mimetype": "text/x-python",
   "name": "python",
   "nbconvert_exporter": "python",
   "pygments_lexer": "ipython3",
   "version": "3.13.2"
  }
 },
 "nbformat": 4,
 "nbformat_minor": 5
}

{
 "cells": [
  {
   "cell_type": "markdown",
   "id": "f6c00278-5399-433f-bf34-54bbd60aec3e",
   "metadata": {},
   "source": [
    "# Imports"
   ]
  },
  {
   "cell_type": "code",
   "execution_count": 2,
   "id": "d6f13f53-ca19-4b7a-bd37-b9568feca1cd",
   "metadata": {},
   "outputs": [],
   "source": [
    "# Libraries\n",
    "import pandas as pd\n",
    "import numpy as np\n",
    "import os"
   ]
  },
  {
   "cell_type": "code",
   "execution_count": 3,
   "id": "07ae9017-7923-4553-b157-c409866db971",
   "metadata": {},
   "outputs": [],
   "source": [
    "# Files\n",
    "path = os.path.expanduser('~/Desktop/CareerFoundry/2.4/4.10.') # path to the root folder\n",
    "\n",
    "### Products\n",
    "df_products = pd.read_csv(\n",
    "    os.path.join('~/Desktop/CareerFoundry/Data/products.csv'),\n",
    "    index_col=False\n",
    ")\n",
    "### Orders\n",
    "df_orders = pd.read_csv(os.path.join(path, '02 Data','Original Data', 'orders.csv')) \n",
    "### Customers\n",
    "df_customers = pd.read_csv(os.path.join(path, '02 Data', 'Original Data', 'customers.csv'))\n",
    "### Departments\n",
    "df_departments = pd.read_csv(os.path.join(path, '02 Data', 'Original Data', 'departments.csv'))\n",
    "### Orders Prior\n",
    "df_orders_prior = pd.read_csv(os.path.join(path, '02 Data', 'Original Data', 'orders_products_prior.csv'))"
   ]
  },
  {
   "cell_type": "markdown",
   "id": "d6c7c094-1b50-4e5b-8ab3-e74c7c4e94fb",
   "metadata": {},
   "source": [
    "## Cleaning products.csv"
   ]
  },
  {
   "cell_type": "code",
   "execution_count": 4,
   "id": "5ba73634-4772-459f-a309-8f3d847802d7",
   "metadata": {},
   "outputs": [
    {
     "name": "stdout",
     "output_type": "stream",
     "text": [
      "<class 'pandas.core.frame.DataFrame'>\n",
      "RangeIndex: 49693 entries, 0 to 49692\n",
      "Data columns (total 5 columns):\n",
      " #   Column         Non-Null Count  Dtype  \n",
      "---  ------         --------------  -----  \n",
      " 0   product_id     49693 non-null  int64  \n",
      " 1   product_name   49677 non-null  object \n",
      " 2   aisle_id       49693 non-null  int64  \n",
      " 3   department_id  49693 non-null  int64  \n",
      " 4   prices         49693 non-null  float64\n",
      "dtypes: float64(1), int64(3), object(1)\n",
      "memory usage: 1.9+ MB\n"
     ]
    }
   ],
   "source": [
    "### Products\n",
    "df_products.info()"
   ]
  },
  {
   "cell_type": "code",
   "execution_count": 68,
   "id": "20094a31-01ad-4ac6-9258-f83bb15a48fd",
   "metadata": {},
   "outputs": [
    {
     "data": {
      "text/html": [
       "<div>\n",
       "<style scoped>\n",
       "    .dataframe tbody tr th:only-of-type {\n",
       "        vertical-align: middle;\n",
       "    }\n",
       "\n",
       "    .dataframe tbody tr th {\n",
       "        vertical-align: top;\n",
       "    }\n",
       "\n",
       "    .dataframe thead th {\n",
       "        text-align: right;\n",
       "    }\n",
       "</style>\n",
       "<table border=\"1\" class=\"dataframe\">\n",
       "  <thead>\n",
       "    <tr style=\"text-align: right;\">\n",
       "      <th></th>\n",
       "      <th>Unnamed: 0</th>\n",
       "      <th>order_id</th>\n",
       "      <th>user_id</th>\n",
       "      <th>eval_set</th>\n",
       "      <th>order_number</th>\n",
       "      <th>order_dow</th>\n",
       "      <th>order_hour_of_day</th>\n",
       "      <th>days_since_prior_order</th>\n",
       "    </tr>\n",
       "  </thead>\n",
       "  <tbody>\n",
       "    <tr>\n",
       "      <th>0</th>\n",
       "      <td>0</td>\n",
       "      <td>2539329</td>\n",
       "      <td>6b86b273ff34fce19d6b804eff5a3f5747ada4eaa22f1d...</td>\n",
       "      <td>prior</td>\n",
       "      <td>1</td>\n",
       "      <td>2</td>\n",
       "      <td>8</td>\n",
       "      <td>NaN</td>\n",
       "    </tr>\n",
       "    <tr>\n",
       "      <th>1</th>\n",
       "      <td>1</td>\n",
       "      <td>2398795</td>\n",
       "      <td>6b86b273ff34fce19d6b804eff5a3f5747ada4eaa22f1d...</td>\n",
       "      <td>prior</td>\n",
       "      <td>2</td>\n",
       "      <td>3</td>\n",
       "      <td>7</td>\n",
       "      <td>15.0</td>\n",
       "    </tr>\n",
       "    <tr>\n",
       "      <th>2</th>\n",
       "      <td>2</td>\n",
       "      <td>473747</td>\n",
       "      <td>6b86b273ff34fce19d6b804eff5a3f5747ada4eaa22f1d...</td>\n",
       "      <td>prior</td>\n",
       "      <td>3</td>\n",
       "      <td>3</td>\n",
       "      <td>12</td>\n",
       "      <td>21.0</td>\n",
       "    </tr>\n",
       "    <tr>\n",
       "      <th>3</th>\n",
       "      <td>3</td>\n",
       "      <td>2254736</td>\n",
       "      <td>6b86b273ff34fce19d6b804eff5a3f5747ada4eaa22f1d...</td>\n",
       "      <td>prior</td>\n",
       "      <td>4</td>\n",
       "      <td>4</td>\n",
       "      <td>7</td>\n",
       "      <td>29.0</td>\n",
       "    </tr>\n",
       "    <tr>\n",
       "      <th>4</th>\n",
       "      <td>4</td>\n",
       "      <td>431534</td>\n",
       "      <td>6b86b273ff34fce19d6b804eff5a3f5747ada4eaa22f1d...</td>\n",
       "      <td>prior</td>\n",
       "      <td>5</td>\n",
       "      <td>4</td>\n",
       "      <td>15</td>\n",
       "      <td>28.0</td>\n",
       "    </tr>\n",
       "  </tbody>\n",
       "</table>\n",
       "</div>"
      ],
      "text/plain": [
       "   Unnamed: 0  order_id                                            user_id  \\\n",
       "0           0   2539329  6b86b273ff34fce19d6b804eff5a3f5747ada4eaa22f1d...   \n",
       "1           1   2398795  6b86b273ff34fce19d6b804eff5a3f5747ada4eaa22f1d...   \n",
       "2           2    473747  6b86b273ff34fce19d6b804eff5a3f5747ada4eaa22f1d...   \n",
       "3           3   2254736  6b86b273ff34fce19d6b804eff5a3f5747ada4eaa22f1d...   \n",
       "4           4    431534  6b86b273ff34fce19d6b804eff5a3f5747ada4eaa22f1d...   \n",
       "\n",
       "  eval_set  order_number  order_dow  order_hour_of_day  days_since_prior_order  \n",
       "0    prior             1          2                  8                     NaN  \n",
       "1    prior             2          3                  7                    15.0  \n",
       "2    prior             3          3                 12                    21.0  \n",
       "3    prior             4          4                  7                    29.0  \n",
       "4    prior             5          4                 15                    28.0  "
      ]
     },
     "execution_count": 68,
     "metadata": {},
     "output_type": "execute_result"
    }
   ],
   "source": [
    "df_products.head()"
   ]
  },
  {
   "cell_type": "markdown",
   "id": "e169e53c-8e9d-4135-8483-c58edf7f3d2e",
   "metadata": {},
   "source": [
    "### 3. Datatype Consistency"
   ]
  },
  {
   "cell_type": "code",
   "execution_count": 64,
   "id": "95cf7585-a363-4a3d-936a-d8b9479f6045",
   "metadata": {
    "scrolled": true
   },
   "outputs": [
    {
     "ename": "KeyError",
     "evalue": "\"Only a column name can be used for the key in a dtype mappings argument. 'product_id' not found in columns.\"",
     "output_type": "error",
     "traceback": [
      "\u001b[31m---------------------------------------------------------------------------\u001b[39m",
      "\u001b[31mKeyError\u001b[39m                                  Traceback (most recent call last)",
      "\u001b[32m/var/folders/93/6z_l2dr50933__g0037dd2540000gn/T/ipykernel_53131/2135295154.py\u001b[39m in \u001b[36m?\u001b[39m\u001b[34m()\u001b[39m\n\u001b[32m----> \u001b[39m\u001b[32m1\u001b[39m df_products = df_products.astype({\u001b[33m'product_id'\u001b[39m:\u001b[33m'str'\u001b[39m, \u001b[33m'aisle_id'\u001b[39m:\u001b[33m'category'\u001b[39m, \u001b[33m'department_id'\u001b[39m:\u001b[33m'category'\u001b[39m})\n",
      "\u001b[32m/opt/miniconda3/lib/python3.13/site-packages/pandas/core/generic.py\u001b[39m in \u001b[36m?\u001b[39m\u001b[34m(self, dtype, copy, errors)\u001b[39m\n\u001b[32m   6601\u001b[39m             dtype_ser = Series(dtype, dtype=object)\n\u001b[32m   6602\u001b[39m \n\u001b[32m   6603\u001b[39m             \u001b[38;5;28;01mfor\u001b[39;00m col_name \u001b[38;5;28;01min\u001b[39;00m dtype_ser.index:\n\u001b[32m   6604\u001b[39m                 \u001b[38;5;28;01mif\u001b[39;00m col_name \u001b[38;5;28;01mnot\u001b[39;00m \u001b[38;5;28;01min\u001b[39;00m self:\n\u001b[32m-> \u001b[39m\u001b[32m6605\u001b[39m                     raise KeyError(\n\u001b[32m   6606\u001b[39m                         \u001b[33m\"Only a column name can be used for the \"\u001b[39m\n\u001b[32m   6607\u001b[39m                         \u001b[33m\"key in a dtype mappings argument. \"\u001b[39m\n\u001b[32m   6608\u001b[39m                         f\"'{col_name}' not found in columns.\"\n",
      "\u001b[31mKeyError\u001b[39m: \"Only a column name can be used for the key in a dtype mappings argument. 'product_id' not found in columns.\""
     ]
    }
   ],
   "source": [
    "df_products = df_products.astype({'product_id':'str', 'aisle_id':'category', 'department_id':'category'})"
   ]
  },
  {
   "cell_type": "markdown",
   "id": "c73ae7c4-8ce3-4791-844c-71c1883da788",
   "metadata": {},
   "source": [
    "### 4. Duplicates"
   ]
  },
  {
   "cell_type": "code",
   "execution_count": 14,
   "id": "10d775a2-76c5-4803-9e66-b9ce5c153b6f",
   "metadata": {},
   "outputs": [
    {
     "name": "stdout",
     "output_type": "stream",
     "text": [
      "5\n"
     ]
    }
   ],
   "source": [
    "print(df_products.duplicated().sum()) "
   ]
  },
  {
   "cell_type": "code",
   "execution_count": 15,
   "id": "0ac10fb4-0c8f-42ec-a69e-d027876cc363",
   "metadata": {},
   "outputs": [],
   "source": [
    "df_products = df_products.drop_duplicates()"
   ]
  },
  {
   "cell_type": "markdown",
   "id": "686c6f71-30bb-4d59-99b9-4d9771e12d30",
   "metadata": {},
   "source": [
    "### 5. Nulls"
   ]
  },
  {
   "cell_type": "code",
   "execution_count": 16,
   "id": "3c3dad51-5c42-4028-959a-2c69f47d1f85",
   "metadata": {},
   "outputs": [
    {
     "data": {
      "text/plain": [
       "product_id        0\n",
       "product_name     16\n",
       "aisle_id          0\n",
       "department_id     0\n",
       "prices            0\n",
       "dtype: int64"
      ]
     },
     "execution_count": 16,
     "metadata": {},
     "output_type": "execute_result"
    }
   ],
   "source": [
    "df_products.isnull().sum()"
   ]
  },
  {
   "cell_type": "code",
   "execution_count": 17,
   "id": "91843a75-2302-4a3c-baf5-5837994ecb84",
   "metadata": {},
   "outputs": [],
   "source": [
    "df_products = df_products[df_products['product_name'].isnull() == False]"
   ]
  },
  {
   "cell_type": "markdown",
   "id": "6a799ce0-60ab-4f1b-8430-86b1f6ce42f4",
   "metadata": {},
   "source": [
    "## Cleaning orders.csv"
   ]
  },
  {
   "cell_type": "code",
   "execution_count": 18,
   "id": "6ec9abe4-9cbe-4ad9-9dd0-95ccaefb24e6",
   "metadata": {},
   "outputs": [
    {
     "data": {
      "text/html": [
       "<div>\n",
       "<style scoped>\n",
       "    .dataframe tbody tr th:only-of-type {\n",
       "        vertical-align: middle;\n",
       "    }\n",
       "\n",
       "    .dataframe tbody tr th {\n",
       "        vertical-align: top;\n",
       "    }\n",
       "\n",
       "    .dataframe thead th {\n",
       "        text-align: right;\n",
       "    }\n",
       "</style>\n",
       "<table border=\"1\" class=\"dataframe\">\n",
       "  <thead>\n",
       "    <tr style=\"text-align: right;\">\n",
       "      <th></th>\n",
       "      <th>order_id</th>\n",
       "      <th>user_id</th>\n",
       "      <th>eval_set</th>\n",
       "      <th>order_number</th>\n",
       "      <th>order_dow</th>\n",
       "      <th>order_hour_of_day</th>\n",
       "      <th>days_since_prior_order</th>\n",
       "    </tr>\n",
       "  </thead>\n",
       "  <tbody>\n",
       "    <tr>\n",
       "      <th>0</th>\n",
       "      <td>2539329</td>\n",
       "      <td>1</td>\n",
       "      <td>prior</td>\n",
       "      <td>1</td>\n",
       "      <td>2</td>\n",
       "      <td>8</td>\n",
       "      <td>NaN</td>\n",
       "    </tr>\n",
       "    <tr>\n",
       "      <th>1</th>\n",
       "      <td>2398795</td>\n",
       "      <td>1</td>\n",
       "      <td>prior</td>\n",
       "      <td>2</td>\n",
       "      <td>3</td>\n",
       "      <td>7</td>\n",
       "      <td>15.0</td>\n",
       "    </tr>\n",
       "    <tr>\n",
       "      <th>2</th>\n",
       "      <td>473747</td>\n",
       "      <td>1</td>\n",
       "      <td>prior</td>\n",
       "      <td>3</td>\n",
       "      <td>3</td>\n",
       "      <td>12</td>\n",
       "      <td>21.0</td>\n",
       "    </tr>\n",
       "    <tr>\n",
       "      <th>3</th>\n",
       "      <td>2254736</td>\n",
       "      <td>1</td>\n",
       "      <td>prior</td>\n",
       "      <td>4</td>\n",
       "      <td>4</td>\n",
       "      <td>7</td>\n",
       "      <td>29.0</td>\n",
       "    </tr>\n",
       "    <tr>\n",
       "      <th>4</th>\n",
       "      <td>431534</td>\n",
       "      <td>1</td>\n",
       "      <td>prior</td>\n",
       "      <td>5</td>\n",
       "      <td>4</td>\n",
       "      <td>15</td>\n",
       "      <td>28.0</td>\n",
       "    </tr>\n",
       "  </tbody>\n",
       "</table>\n",
       "</div>"
      ],
      "text/plain": [
       "   order_id  user_id eval_set  order_number  order_dow  order_hour_of_day  \\\n",
       "0   2539329        1    prior             1          2                  8   \n",
       "1   2398795        1    prior             2          3                  7   \n",
       "2    473747        1    prior             3          3                 12   \n",
       "3   2254736        1    prior             4          4                  7   \n",
       "4    431534        1    prior             5          4                 15   \n",
       "\n",
       "   days_since_prior_order  \n",
       "0                     NaN  \n",
       "1                    15.0  \n",
       "2                    21.0  \n",
       "3                    29.0  \n",
       "4                    28.0  "
      ]
     },
     "execution_count": 18,
     "metadata": {},
     "output_type": "execute_result"
    }
   ],
   "source": [
    "df_orders.head()"
   ]
  },
  {
   "cell_type": "markdown",
   "id": "60fe9f93-4bb5-4965-90be-ee8615f4d888",
   "metadata": {},
   "source": [
    "### 1. Droping Unnecessary Columns"
   ]
  },
  {
   "cell_type": "code",
   "execution_count": 19,
   "id": "12d909c2-35d8-4c52-82b4-770c827c4d09",
   "metadata": {},
   "outputs": [],
   "source": [
    "### Orders\n",
    "df_orders = df_orders.drop(columns=['eval_set'])"
   ]
  },
  {
   "cell_type": "markdown",
   "id": "75bd734b-f53c-4dd0-817f-b8e02671946a",
   "metadata": {},
   "source": [
    "### 2. Renaming Columns"
   ]
  },
  {
   "cell_type": "code",
   "execution_count": 20,
   "id": "47622cdd-9435-457e-959e-118ed1f2c5af",
   "metadata": {},
   "outputs": [],
   "source": [
    "df_orders.rename(columns = {'order_dow':'order_day_of_week'}, inplace=True)"
   ]
  },
  {
   "cell_type": "markdown",
   "id": "c38da079-1601-46ba-aa3c-4999820c4493",
   "metadata": {},
   "source": [
    "### 3. Datatype Consistency"
   ]
  },
  {
   "cell_type": "code",
   "execution_count": 21,
   "id": "1645ac8f-8d6b-413e-8f67-96c41ed5750d",
   "metadata": {},
   "outputs": [
    {
     "name": "stdout",
     "output_type": "stream",
     "text": [
      "<class 'pandas.core.frame.DataFrame'>\n",
      "RangeIndex: 3421083 entries, 0 to 3421082\n",
      "Data columns (total 6 columns):\n",
      " #   Column                  Dtype  \n",
      "---  ------                  -----  \n",
      " 0   order_id                int64  \n",
      " 1   user_id                 int64  \n",
      " 2   order_number            int64  \n",
      " 3   order_day_of_week       int64  \n",
      " 4   order_hour_of_day       int64  \n",
      " 5   days_since_prior_order  float64\n",
      "dtypes: float64(1), int64(5)\n",
      "memory usage: 156.6 MB\n"
     ]
    }
   ],
   "source": [
    "df_orders.info()"
   ]
  },
  {
   "cell_type": "code",
   "execution_count": 22,
   "id": "63b05a00-9344-4ea1-81d1-8190be74a5ae",
   "metadata": {},
   "outputs": [],
   "source": [
    "df_orders = df_orders.astype({'order_id':'str', 'user_id':'str'})"
   ]
  },
  {
   "cell_type": "markdown",
   "id": "22b4e044-807a-4d8a-bd66-7dbd4981d857",
   "metadata": {},
   "source": [
    "### 4. Duplicates"
   ]
  },
  {
   "cell_type": "code",
   "execution_count": 23,
   "id": "3e79b063-94c4-4593-a61d-60e386626bea",
   "metadata": {},
   "outputs": [
    {
     "name": "stdout",
     "output_type": "stream",
     "text": [
      "0\n"
     ]
    }
   ],
   "source": [
    "print(df_orders.duplicated().sum()) # no duplicates found"
   ]
  },
  {
   "cell_type": "markdown",
   "id": "5b212703-c628-4ec1-9b49-5c5ff00eb586",
   "metadata": {},
   "source": [
    "### 5. Nulls"
   ]
  },
  {
   "cell_type": "code",
   "execution_count": 24,
   "id": "0434ecca-a816-4b51-a37d-d06147c667f9",
   "metadata": {},
   "outputs": [
    {
     "data": {
      "text/plain": [
       "order_id                       0\n",
       "user_id                        0\n",
       "order_number                   0\n",
       "order_day_of_week              0\n",
       "order_hour_of_day              0\n",
       "days_since_prior_order    206209\n",
       "dtype: int64"
      ]
     },
     "execution_count": 24,
     "metadata": {},
     "output_type": "execute_result"
    }
   ],
   "source": [
    "df_orders.isnull().sum()"
   ]
  },
  {
   "cell_type": "code",
   "execution_count": 25,
   "id": "bac822e4-b71e-431a-acd3-27291aa0b658",
   "metadata": {},
   "outputs": [],
   "source": [
    "df_orders = df_orders.fillna(0) # Nulls probably mean that the customer made the first order, so they are replaced with '0'"
   ]
  },
  {
   "cell_type": "markdown",
   "id": "24328f7a-3247-4fd1-9cfe-866f51ae8143",
   "metadata": {},
   "source": [
    "## Cleaning customers.csv"
   ]
  },
  {
   "cell_type": "code",
   "execution_count": 26,
   "id": "b32bc798-60c9-4329-ad3c-67c7365a9e94",
   "metadata": {},
   "outputs": [
    {
     "data": {
      "text/html": [
       "<div>\n",
       "<style scoped>\n",
       "    .dataframe tbody tr th:only-of-type {\n",
       "        vertical-align: middle;\n",
       "    }\n",
       "\n",
       "    .dataframe tbody tr th {\n",
       "        vertical-align: top;\n",
       "    }\n",
       "\n",
       "    .dataframe thead th {\n",
       "        text-align: right;\n",
       "    }\n",
       "</style>\n",
       "<table border=\"1\" class=\"dataframe\">\n",
       "  <thead>\n",
       "    <tr style=\"text-align: right;\">\n",
       "      <th></th>\n",
       "      <th>Unnamed: 0</th>\n",
       "      <th>user_id</th>\n",
       "      <th>Gender</th>\n",
       "      <th>STATE</th>\n",
       "      <th>date_joined</th>\n",
       "      <th>n_dependants</th>\n",
       "      <th>fam_status</th>\n",
       "      <th>age_group</th>\n",
       "      <th>income_bracket</th>\n",
       "    </tr>\n",
       "  </thead>\n",
       "  <tbody>\n",
       "    <tr>\n",
       "      <th>0</th>\n",
       "      <td>0</td>\n",
       "      <td>4581c0113a43f51e6936887a17a5f3aa15b8d5620971dc...</td>\n",
       "      <td>Female</td>\n",
       "      <td>Missouri</td>\n",
       "      <td>01/2017</td>\n",
       "      <td>3</td>\n",
       "      <td>married</td>\n",
       "      <td>46-55</td>\n",
       "      <td>High</td>\n",
       "    </tr>\n",
       "    <tr>\n",
       "      <th>1</th>\n",
       "      <td>1</td>\n",
       "      <td>5c9ce36c302d7ae7788da06067c14bcfefdf448119347e...</td>\n",
       "      <td>Female</td>\n",
       "      <td>New Mexico</td>\n",
       "      <td>01/2017</td>\n",
       "      <td>0</td>\n",
       "      <td>single</td>\n",
       "      <td>36-45</td>\n",
       "      <td>Low</td>\n",
       "    </tr>\n",
       "    <tr>\n",
       "      <th>2</th>\n",
       "      <td>2</td>\n",
       "      <td>0e8046bde3a8be6ac0475aa85bd492313f971bf9954e66...</td>\n",
       "      <td>Male</td>\n",
       "      <td>Idaho</td>\n",
       "      <td>01/2017</td>\n",
       "      <td>2</td>\n",
       "      <td>married</td>\n",
       "      <td>26-35</td>\n",
       "      <td>Mid-high</td>\n",
       "    </tr>\n",
       "    <tr>\n",
       "      <th>3</th>\n",
       "      <td>3</td>\n",
       "      <td>89c3d9ccf6ea26abb0e8a1a65ca8c3e61127864bfd494d...</td>\n",
       "      <td>Female</td>\n",
       "      <td>Iowa</td>\n",
       "      <td>01/2017</td>\n",
       "      <td>0</td>\n",
       "      <td>single</td>\n",
       "      <td>36-45</td>\n",
       "      <td>Low</td>\n",
       "    </tr>\n",
       "    <tr>\n",
       "      <th>4</th>\n",
       "      <td>4</td>\n",
       "      <td>6335638549bc219c93c6b99bcb3939ad1d8f62d7dec732...</td>\n",
       "      <td>Female</td>\n",
       "      <td>Maryland</td>\n",
       "      <td>01/2017</td>\n",
       "      <td>1</td>\n",
       "      <td>married</td>\n",
       "      <td>26-35</td>\n",
       "      <td>Low</td>\n",
       "    </tr>\n",
       "  </tbody>\n",
       "</table>\n",
       "</div>"
      ],
      "text/plain": [
       "   Unnamed: 0                                            user_id  Gender  \\\n",
       "0           0  4581c0113a43f51e6936887a17a5f3aa15b8d5620971dc...  Female   \n",
       "1           1  5c9ce36c302d7ae7788da06067c14bcfefdf448119347e...  Female   \n",
       "2           2  0e8046bde3a8be6ac0475aa85bd492313f971bf9954e66...    Male   \n",
       "3           3  89c3d9ccf6ea26abb0e8a1a65ca8c3e61127864bfd494d...  Female   \n",
       "4           4  6335638549bc219c93c6b99bcb3939ad1d8f62d7dec732...  Female   \n",
       "\n",
       "        STATE date_joined  n_dependants fam_status age_group income_bracket  \n",
       "0    Missouri     01/2017             3    married     46-55           High  \n",
       "1  New Mexico     01/2017             0     single     36-45            Low  \n",
       "2       Idaho     01/2017             2    married     26-35       Mid-high  \n",
       "3        Iowa     01/2017             0     single     36-45            Low  \n",
       "4    Maryland     01/2017             1    married     26-35            Low  "
      ]
     },
     "execution_count": 26,
     "metadata": {},
     "output_type": "execute_result"
    }
   ],
   "source": [
    "df_customers.head()"
   ]
  },
  {
   "cell_type": "markdown",
   "id": "eedea024-4f6a-43d0-a892-792b69eefb14",
   "metadata": {},
   "source": [
    "### 2. Renaming Columns"
   ]
  },
  {
   "cell_type": "code",
   "execution_count": 27,
   "id": "e171a0f4-a7c2-48d8-9370-af4095407efa",
   "metadata": {},
   "outputs": [],
   "source": [
    "df_customers.rename(columns = { 'Gender':'gender', 'STATE':'state', 'n_dependants':'dependants',\n",
    "                               'fam_status':'family_status', \n",
    "                    'income':'yearly_income'}, inplace=True)"
   ]
  },
  {
   "cell_type": "markdown",
   "id": "5d82048a-2946-4993-93e5-f959a15b82cc",
   "metadata": {},
   "source": [
    "### 3. Datatype Consistency"
   ]
  },
  {
   "cell_type": "code",
   "execution_count": 28,
   "id": "df9bb111-9382-41e8-b7d6-b55bf2262035",
   "metadata": {
    "scrolled": true
   },
   "outputs": [
    {
     "name": "stdout",
     "output_type": "stream",
     "text": [
      "<class 'pandas.core.frame.DataFrame'>\n",
      "RangeIndex: 206209 entries, 0 to 206208\n",
      "Data columns (total 9 columns):\n",
      " #   Column          Non-Null Count   Dtype \n",
      "---  ------          --------------   ----- \n",
      " 0   Unnamed: 0      206209 non-null  int64 \n",
      " 1   user_id         206209 non-null  object\n",
      " 2   gender          206209 non-null  object\n",
      " 3   state           206209 non-null  object\n",
      " 4   date_joined     206209 non-null  object\n",
      " 5   dependants      206209 non-null  int64 \n",
      " 6   family_status   206209 non-null  object\n",
      " 7   age_group       206209 non-null  object\n",
      " 8   income_bracket  206209 non-null  object\n",
      "dtypes: int64(2), object(7)\n",
      "memory usage: 14.2+ MB\n"
     ]
    }
   ],
   "source": [
    "df_customers.info()"
   ]
  },
  {
   "cell_type": "code",
   "execution_count": 29,
   "id": "3ef57c5a-fc17-40d0-ae92-4945ee121417",
   "metadata": {},
   "outputs": [],
   "source": [
    "df_customers=df_customers.astype({'user_id':'str', 'gender':'category', 'state':'category', 'date_joined':'datetime64[ns]', 'family_status':'category'})"
   ]
  },
  {
   "cell_type": "markdown",
   "id": "aca46bdd-8825-4d1e-b9d5-a20819287f9f",
   "metadata": {},
   "source": [
    "### 4. Duplicates"
   ]
  },
  {
   "cell_type": "code",
   "execution_count": 30,
   "id": "89258682-f33e-460c-a58d-96f0f901c2dd",
   "metadata": {},
   "outputs": [
    {
     "name": "stdout",
     "output_type": "stream",
     "text": [
      "0\n"
     ]
    }
   ],
   "source": [
    "print(df_customers.duplicated().sum()) # no duplicates"
   ]
  },
  {
   "cell_type": "markdown",
   "id": "317f086a-1d1b-4503-bd3d-a2c57725f79c",
   "metadata": {},
   "source": [
    "### 5. Nulls"
   ]
  },
  {
   "cell_type": "code",
   "execution_count": 31,
   "id": "398ae872-e1e8-4c84-bc1e-94ec7acd912c",
   "metadata": {},
   "outputs": [
    {
     "data": {
      "text/plain": [
       "Unnamed: 0        0\n",
       "user_id           0\n",
       "gender            0\n",
       "state             0\n",
       "date_joined       0\n",
       "dependants        0\n",
       "family_status     0\n",
       "age_group         0\n",
       "income_bracket    0\n",
       "dtype: int64"
      ]
     },
     "execution_count": 31,
     "metadata": {},
     "output_type": "execute_result"
    }
   ],
   "source": [
    "df_customers.isnull().sum() # there is no need to remove recors with NULLs as first name is not important for the analysis"
   ]
  },
  {
   "cell_type": "markdown",
   "id": "a92ca767-bdef-4012-b704-074a90de2961",
   "metadata": {},
   "source": [
    "## Cleaning departments.csv"
   ]
  },
  {
   "cell_type": "code",
   "execution_count": 32,
   "id": "c21a1bb8-206d-4f65-82a1-878e07beb486",
   "metadata": {},
   "outputs": [
    {
     "data": {
      "text/html": [
       "<div>\n",
       "<style scoped>\n",
       "    .dataframe tbody tr th:only-of-type {\n",
       "        vertical-align: middle;\n",
       "    }\n",
       "\n",
       "    .dataframe tbody tr th {\n",
       "        vertical-align: top;\n",
       "    }\n",
       "\n",
       "    .dataframe thead th {\n",
       "        text-align: right;\n",
       "    }\n",
       "</style>\n",
       "<table border=\"1\" class=\"dataframe\">\n",
       "  <thead>\n",
       "    <tr style=\"text-align: right;\">\n",
       "      <th></th>\n",
       "      <th>department_id</th>\n",
       "      <th>1</th>\n",
       "      <th>2</th>\n",
       "      <th>3</th>\n",
       "      <th>4</th>\n",
       "      <th>5</th>\n",
       "      <th>6</th>\n",
       "      <th>7</th>\n",
       "      <th>8</th>\n",
       "      <th>9</th>\n",
       "      <th>...</th>\n",
       "      <th>12</th>\n",
       "      <th>13</th>\n",
       "      <th>14</th>\n",
       "      <th>15</th>\n",
       "      <th>16</th>\n",
       "      <th>17</th>\n",
       "      <th>18</th>\n",
       "      <th>19</th>\n",
       "      <th>20</th>\n",
       "      <th>21</th>\n",
       "    </tr>\n",
       "  </thead>\n",
       "  <tbody>\n",
       "    <tr>\n",
       "      <th>0</th>\n",
       "      <td>department</td>\n",
       "      <td>frozen</td>\n",
       "      <td>other</td>\n",
       "      <td>bakery</td>\n",
       "      <td>produce</td>\n",
       "      <td>alcohol</td>\n",
       "      <td>international</td>\n",
       "      <td>beverages</td>\n",
       "      <td>pets</td>\n",
       "      <td>dry goods pasta</td>\n",
       "      <td>...</td>\n",
       "      <td>meat seafood</td>\n",
       "      <td>pantry</td>\n",
       "      <td>breakfast</td>\n",
       "      <td>canned goods</td>\n",
       "      <td>dairy eggs</td>\n",
       "      <td>household</td>\n",
       "      <td>babies</td>\n",
       "      <td>snacks</td>\n",
       "      <td>deli</td>\n",
       "      <td>missing</td>\n",
       "    </tr>\n",
       "  </tbody>\n",
       "</table>\n",
       "<p>1 rows × 22 columns</p>\n",
       "</div>"
      ],
      "text/plain": [
       "  department_id       1      2       3        4        5              6  \\\n",
       "0    department  frozen  other  bakery  produce  alcohol  international   \n",
       "\n",
       "           7     8                9  ...            12      13         14  \\\n",
       "0  beverages  pets  dry goods pasta  ...  meat seafood  pantry  breakfast   \n",
       "\n",
       "             15          16         17      18      19    20       21  \n",
       "0  canned goods  dairy eggs  household  babies  snacks  deli  missing  \n",
       "\n",
       "[1 rows x 22 columns]"
      ]
     },
     "execution_count": 32,
     "metadata": {},
     "output_type": "execute_result"
    }
   ],
   "source": [
    "df_departments.head() # Data is in the wide format. "
   ]
  },
  {
   "cell_type": "markdown",
   "id": "84eb7151-5070-4d04-98ed-bdb9e1f82ec1",
   "metadata": {},
   "source": [
    "### 0. Transposing data"
   ]
  },
  {
   "cell_type": "code",
   "execution_count": 33,
   "id": "0e7817a7-dee9-411a-9977-568119220ffa",
   "metadata": {},
   "outputs": [],
   "source": [
    "df_departments = df_departments.T"
   ]
  },
  {
   "cell_type": "code",
   "execution_count": 34,
   "id": "2762ea8f-a0fa-43df-8052-737a9a08bc20",
   "metadata": {},
   "outputs": [
    {
     "data": {
      "text/html": [
       "<div>\n",
       "<style scoped>\n",
       "    .dataframe tbody tr th:only-of-type {\n",
       "        vertical-align: middle;\n",
       "    }\n",
       "\n",
       "    .dataframe tbody tr th {\n",
       "        vertical-align: top;\n",
       "    }\n",
       "\n",
       "    .dataframe thead th {\n",
       "        text-align: right;\n",
       "    }\n",
       "</style>\n",
       "<table border=\"1\" class=\"dataframe\">\n",
       "  <thead>\n",
       "    <tr style=\"text-align: right;\">\n",
       "      <th></th>\n",
       "      <th>index</th>\n",
       "      <th>0</th>\n",
       "    </tr>\n",
       "  </thead>\n",
       "  <tbody>\n",
       "    <tr>\n",
       "      <th>0</th>\n",
       "      <td>department_id</td>\n",
       "      <td>department</td>\n",
       "    </tr>\n",
       "    <tr>\n",
       "      <th>1</th>\n",
       "      <td>1</td>\n",
       "      <td>frozen</td>\n",
       "    </tr>\n",
       "    <tr>\n",
       "      <th>2</th>\n",
       "      <td>2</td>\n",
       "      <td>other</td>\n",
       "    </tr>\n",
       "    <tr>\n",
       "      <th>3</th>\n",
       "      <td>3</td>\n",
       "      <td>bakery</td>\n",
       "    </tr>\n",
       "    <tr>\n",
       "      <th>4</th>\n",
       "      <td>4</td>\n",
       "      <td>produce</td>\n",
       "    </tr>\n",
       "    <tr>\n",
       "      <th>5</th>\n",
       "      <td>5</td>\n",
       "      <td>alcohol</td>\n",
       "    </tr>\n",
       "    <tr>\n",
       "      <th>6</th>\n",
       "      <td>6</td>\n",
       "      <td>international</td>\n",
       "    </tr>\n",
       "    <tr>\n",
       "      <th>7</th>\n",
       "      <td>7</td>\n",
       "      <td>beverages</td>\n",
       "    </tr>\n",
       "    <tr>\n",
       "      <th>8</th>\n",
       "      <td>8</td>\n",
       "      <td>pets</td>\n",
       "    </tr>\n",
       "    <tr>\n",
       "      <th>9</th>\n",
       "      <td>9</td>\n",
       "      <td>dry goods pasta</td>\n",
       "    </tr>\n",
       "    <tr>\n",
       "      <th>10</th>\n",
       "      <td>10</td>\n",
       "      <td>bulk</td>\n",
       "    </tr>\n",
       "    <tr>\n",
       "      <th>11</th>\n",
       "      <td>11</td>\n",
       "      <td>personal care</td>\n",
       "    </tr>\n",
       "    <tr>\n",
       "      <th>12</th>\n",
       "      <td>12</td>\n",
       "      <td>meat seafood</td>\n",
       "    </tr>\n",
       "    <tr>\n",
       "      <th>13</th>\n",
       "      <td>13</td>\n",
       "      <td>pantry</td>\n",
       "    </tr>\n",
       "    <tr>\n",
       "      <th>14</th>\n",
       "      <td>14</td>\n",
       "      <td>breakfast</td>\n",
       "    </tr>\n",
       "    <tr>\n",
       "      <th>15</th>\n",
       "      <td>15</td>\n",
       "      <td>canned goods</td>\n",
       "    </tr>\n",
       "    <tr>\n",
       "      <th>16</th>\n",
       "      <td>16</td>\n",
       "      <td>dairy eggs</td>\n",
       "    </tr>\n",
       "    <tr>\n",
       "      <th>17</th>\n",
       "      <td>17</td>\n",
       "      <td>household</td>\n",
       "    </tr>\n",
       "    <tr>\n",
       "      <th>18</th>\n",
       "      <td>18</td>\n",
       "      <td>babies</td>\n",
       "    </tr>\n",
       "    <tr>\n",
       "      <th>19</th>\n",
       "      <td>19</td>\n",
       "      <td>snacks</td>\n",
       "    </tr>\n",
       "    <tr>\n",
       "      <th>20</th>\n",
       "      <td>20</td>\n",
       "      <td>deli</td>\n",
       "    </tr>\n",
       "    <tr>\n",
       "      <th>21</th>\n",
       "      <td>21</td>\n",
       "      <td>missing</td>\n",
       "    </tr>\n",
       "  </tbody>\n",
       "</table>\n",
       "</div>"
      ],
      "text/plain": [
       "            index                0\n",
       "0   department_id       department\n",
       "1               1           frozen\n",
       "2               2            other\n",
       "3               3           bakery\n",
       "4               4          produce\n",
       "5               5          alcohol\n",
       "6               6    international\n",
       "7               7        beverages\n",
       "8               8             pets\n",
       "9               9  dry goods pasta\n",
       "10             10             bulk\n",
       "11             11    personal care\n",
       "12             12     meat seafood\n",
       "13             13           pantry\n",
       "14             14        breakfast\n",
       "15             15     canned goods\n",
       "16             16       dairy eggs\n",
       "17             17        household\n",
       "18             18           babies\n",
       "19             19           snacks\n",
       "20             20             deli\n",
       "21             21          missing"
      ]
     },
     "execution_count": 34,
     "metadata": {},
     "output_type": "execute_result"
    }
   ],
   "source": [
    "df_departments.reset_index()"
   ]
  },
  {
   "cell_type": "code",
   "execution_count": 35,
   "id": "af035f01-fa3b-416d-8486-67e8d8734ab0",
   "metadata": {},
   "outputs": [],
   "source": [
    "new_header = df_departments.iloc[0]"
   ]
  },
  {
   "cell_type": "code",
   "execution_count": 36,
   "id": "98aed8dc-6210-4594-904d-2c4e5f439868",
   "metadata": {},
   "outputs": [],
   "source": [
    "df_departments = df_departments[1:]"
   ]
  },
  {
   "cell_type": "code",
   "execution_count": 37,
   "id": "782dcb25-2276-4e85-9a85-a5d719662c8b",
   "metadata": {},
   "outputs": [],
   "source": [
    "df_departments.columns = new_header"
   ]
  },
  {
   "cell_type": "code",
   "execution_count": 38,
   "id": "a19df833-bea5-4336-8626-b170ba551f02",
   "metadata": {},
   "outputs": [
    {
     "data": {
      "text/html": [
       "<div>\n",
       "<style scoped>\n",
       "    .dataframe tbody tr th:only-of-type {\n",
       "        vertical-align: middle;\n",
       "    }\n",
       "\n",
       "    .dataframe tbody tr th {\n",
       "        vertical-align: top;\n",
       "    }\n",
       "\n",
       "    .dataframe thead th {\n",
       "        text-align: right;\n",
       "    }\n",
       "</style>\n",
       "<table border=\"1\" class=\"dataframe\">\n",
       "  <thead>\n",
       "    <tr style=\"text-align: right;\">\n",
       "      <th>department_id</th>\n",
       "      <th>department</th>\n",
       "    </tr>\n",
       "  </thead>\n",
       "  <tbody>\n",
       "    <tr>\n",
       "      <th>1</th>\n",
       "      <td>frozen</td>\n",
       "    </tr>\n",
       "    <tr>\n",
       "      <th>2</th>\n",
       "      <td>other</td>\n",
       "    </tr>\n",
       "    <tr>\n",
       "      <th>3</th>\n",
       "      <td>bakery</td>\n",
       "    </tr>\n",
       "    <tr>\n",
       "      <th>4</th>\n",
       "      <td>produce</td>\n",
       "    </tr>\n",
       "    <tr>\n",
       "      <th>5</th>\n",
       "      <td>alcohol</td>\n",
       "    </tr>\n",
       "  </tbody>\n",
       "</table>\n",
       "</div>"
      ],
      "text/plain": [
       "department_id department\n",
       "1                 frozen\n",
       "2                  other\n",
       "3                 bakery\n",
       "4                produce\n",
       "5                alcohol"
      ]
     },
     "execution_count": 38,
     "metadata": {},
     "output_type": "execute_result"
    }
   ],
   "source": [
    "df_departments.head()"
   ]
  },
  {
   "cell_type": "markdown",
   "id": "6bdc6800-c0d8-4b31-9e01-48fcdc2957f0",
   "metadata": {},
   "source": [
    "### 4. Duplicates"
   ]
  },
  {
   "cell_type": "code",
   "execution_count": 39,
   "id": "a07aa065-1bf3-434c-a831-3c951544d700",
   "metadata": {},
   "outputs": [
    {
     "name": "stdout",
     "output_type": "stream",
     "text": [
      "0\n"
     ]
    }
   ],
   "source": [
    "print(df_departments.duplicated().sum()) "
   ]
  },
  {
   "cell_type": "markdown",
   "id": "0f6b7e83-f6ef-4cfa-a833-6ac6a6ac205d",
   "metadata": {},
   "source": [
    "## Cleaning orders_products_prior.csv"
   ]
  },
  {
   "cell_type": "code",
   "execution_count": 40,
   "id": "b75910a8-404b-4910-8eee-d9e408e70989",
   "metadata": {
    "scrolled": true
   },
   "outputs": [
    {
     "data": {
      "text/html": [
       "<div>\n",
       "<style scoped>\n",
       "    .dataframe tbody tr th:only-of-type {\n",
       "        vertical-align: middle;\n",
       "    }\n",
       "\n",
       "    .dataframe tbody tr th {\n",
       "        vertical-align: top;\n",
       "    }\n",
       "\n",
       "    .dataframe thead th {\n",
       "        text-align: right;\n",
       "    }\n",
       "</style>\n",
       "<table border=\"1\" class=\"dataframe\">\n",
       "  <thead>\n",
       "    <tr style=\"text-align: right;\">\n",
       "      <th></th>\n",
       "      <th>order_id</th>\n",
       "      <th>product_id</th>\n",
       "      <th>add_to_cart_order</th>\n",
       "      <th>reordered</th>\n",
       "    </tr>\n",
       "  </thead>\n",
       "  <tbody>\n",
       "    <tr>\n",
       "      <th>0</th>\n",
       "      <td>2</td>\n",
       "      <td>33120</td>\n",
       "      <td>1</td>\n",
       "      <td>1</td>\n",
       "    </tr>\n",
       "    <tr>\n",
       "      <th>1</th>\n",
       "      <td>2</td>\n",
       "      <td>28985</td>\n",
       "      <td>2</td>\n",
       "      <td>1</td>\n",
       "    </tr>\n",
       "    <tr>\n",
       "      <th>2</th>\n",
       "      <td>2</td>\n",
       "      <td>9327</td>\n",
       "      <td>3</td>\n",
       "      <td>0</td>\n",
       "    </tr>\n",
       "    <tr>\n",
       "      <th>3</th>\n",
       "      <td>2</td>\n",
       "      <td>45918</td>\n",
       "      <td>4</td>\n",
       "      <td>1</td>\n",
       "    </tr>\n",
       "    <tr>\n",
       "      <th>4</th>\n",
       "      <td>2</td>\n",
       "      <td>30035</td>\n",
       "      <td>5</td>\n",
       "      <td>0</td>\n",
       "    </tr>\n",
       "  </tbody>\n",
       "</table>\n",
       "</div>"
      ],
      "text/plain": [
       "   order_id  product_id  add_to_cart_order  reordered\n",
       "0         2       33120                  1          1\n",
       "1         2       28985                  2          1\n",
       "2         2        9327                  3          0\n",
       "3         2       45918                  4          1\n",
       "4         2       30035                  5          0"
      ]
     },
     "execution_count": 40,
     "metadata": {},
     "output_type": "execute_result"
    }
   ],
   "source": [
    "df_orders_prior.head()"
   ]
  },
  {
   "cell_type": "markdown",
   "id": "61c23691-2758-48cf-8955-68f25b75e795",
   "metadata": {},
   "source": [
    "### 3. Datatype Consistency"
   ]
  },
  {
   "cell_type": "code",
   "execution_count": 41,
   "id": "ca0a6dc1-cbd6-4c11-89f3-ba5be3acde3d",
   "metadata": {},
   "outputs": [
    {
     "name": "stdout",
     "output_type": "stream",
     "text": [
      "<class 'pandas.core.frame.DataFrame'>\n",
      "RangeIndex: 32434489 entries, 0 to 32434488\n",
      "Data columns (total 4 columns):\n",
      " #   Column             Dtype\n",
      "---  ------             -----\n",
      " 0   order_id           int64\n",
      " 1   product_id         int64\n",
      " 2   add_to_cart_order  int64\n",
      " 3   reordered          int64\n",
      "dtypes: int64(4)\n",
      "memory usage: 989.8 MB\n"
     ]
    }
   ],
   "source": [
    "df_orders_prior.info()"
   ]
  },
  {
   "cell_type": "code",
   "execution_count": 42,
   "id": "09cdc8d6-fe87-45d3-a023-7e6d41d542ab",
   "metadata": {},
   "outputs": [],
   "source": [
    "df_orders_prior = df_orders_prior.astype({'order_id':'str', 'product_id':'str'})"
   ]
  },
  {
   "cell_type": "markdown",
   "id": "285bfd6e-fa82-4d02-b0a0-76391f812b54",
   "metadata": {},
   "source": [
    "### 4. Duplicates"
   ]
  },
  {
   "cell_type": "code",
   "execution_count": 43,
   "id": "3ebfba75-17bf-4ac5-92c5-523cc695dd9c",
   "metadata": {},
   "outputs": [
    {
     "name": "stdout",
     "output_type": "stream",
     "text": [
      "0\n"
     ]
    }
   ],
   "source": [
    "print(df_orders_prior.duplicated().sum()) # no duplicates found"
   ]
  },
  {
   "cell_type": "markdown",
   "id": "47aa4294-d97b-467a-aefc-bdcfc7076eff",
   "metadata": {},
   "source": [
    "### 5. Nulls"
   ]
  },
  {
   "cell_type": "code",
   "execution_count": 44,
   "id": "4a02737b-1f51-4b37-8938-1a7768930109",
   "metadata": {},
   "outputs": [
    {
     "data": {
      "text/plain": [
       "order_id             0\n",
       "product_id           0\n",
       "add_to_cart_order    0\n",
       "reordered            0\n",
       "dtype: int64"
      ]
     },
     "execution_count": 44,
     "metadata": {},
     "output_type": "execute_result"
    }
   ],
   "source": [
    "df_orders_prior.isnull().sum()"
   ]
  },
  {
   "cell_type": "markdown",
   "id": "75c2d1c4-60f3-4cde-a4c6-6ac199b329fb",
   "metadata": {},
   "source": [
    "# Exports"
   ]
  },
  {
   "cell_type": "markdown",
   "id": "168b04b5-80a8-420f-9f63-ccb6e5cbfcad",
   "metadata": {},
   "source": [
    "Products"
   ]
  },
  {
   "cell_type": "code",
   "execution_count": 45,
   "id": "b35a3d9b-475a-4390-95d0-fb6550c8c145",
   "metadata": {},
   "outputs": [],
   "source": [
    "df_products.to_csv(os.path.join(path, '02 Data','Clean Data', 'products.csv'))"
   ]
  },
  {
   "cell_type": "code",
   "execution_count": 46,
   "id": "ee396180-e121-45ac-ab46-f1f5d68e0607",
   "metadata": {},
   "outputs": [],
   "source": [
    "df_products.to_pickle(os.path.join(path, '02 Data','Clean Data', 'products.pkl'))"
   ]
  },
  {
   "cell_type": "markdown",
   "id": "26de8f16-49e7-4050-ac2c-a7163383b799",
   "metadata": {},
   "source": [
    "Orders"
   ]
  },
  {
   "cell_type": "code",
   "execution_count": 47,
   "id": "88bac27f-dbe3-40c9-8cb6-9f9fb318d10b",
   "metadata": {},
   "outputs": [],
   "source": [
    "df_orders.to_csv(os.path.join(path, '02 Data','Clean Data', 'orders.csv'))"
   ]
  },
  {
   "cell_type": "code",
   "execution_count": 48,
   "id": "06584bff-ee2d-4a10-93ab-f1a81cedf004",
   "metadata": {},
   "outputs": [],
   "source": [
    "df_orders.to_pickle(os.path.join(path, '02 Data','Clean Data', 'orders.pkl'))"
   ]
  },
  {
   "cell_type": "markdown",
   "id": "d7efafaf-1055-4eaf-8759-1006d25f1361",
   "metadata": {},
   "source": [
    "Customers"
   ]
  },
  {
   "cell_type": "code",
   "execution_count": 49,
   "id": "5e5b8feb-e860-4c70-8c65-a1a4693b00be",
   "metadata": {},
   "outputs": [],
   "source": [
    "df_customers.to_csv(os.path.join(path, '02 Data','Clean Data', 'customers.csv'))"
   ]
  },
  {
   "cell_type": "code",
   "execution_count": 50,
   "id": "5031751b-535d-4812-be5a-326e7de42d1f",
   "metadata": {},
   "outputs": [],
   "source": [
    "df_customers.to_pickle(os.path.join(path, '02 Data','Clean Data', 'customers.pkl'))"
   ]
  },
  {
   "cell_type": "markdown",
   "id": "3d5c35fb-078b-4cbb-a15a-1339be84ebaf",
   "metadata": {},
   "source": [
    "Departments"
   ]
  },
  {
   "cell_type": "code",
   "execution_count": 51,
   "id": "85e54d2f-5aa7-41d9-9c22-3b63978d4444",
   "metadata": {},
   "outputs": [],
   "source": [
    "df_departments.to_csv(os.path.join(path, '02 Data','Clean Data', 'departments.csv'))"
   ]
  },
  {
   "cell_type": "code",
   "execution_count": 52,
   "id": "2d87932c-8de7-4b45-ab55-4871fad0f071",
   "metadata": {},
   "outputs": [],
   "source": [
    "df_departments.to_pickle(os.path.join(path, '02 Data','Clean Data', 'departments.pkl'))"
   ]
  },
  {
   "cell_type": "markdown",
   "id": "416db1eb-0886-473c-851d-6e09cf9f54b8",
   "metadata": {},
   "source": [
    "Prior Orders"
   ]
  },
  {
   "cell_type": "code",
   "execution_count": 53,
   "id": "4c4f1922-10fb-4a50-bbbd-67396a467d18",
   "metadata": {},
   "outputs": [],
   "source": [
    "df_orders_prior.to_csv(os.path.join(path, '02 Data','Clean Data', 'orders_products_prior.csv'))"
   ]
  },
  {
   "cell_type": "code",
   "execution_count": 54,
   "id": "7d934c2b-7fca-476d-8dc4-31309a7d4588",
   "metadata": {},
   "outputs": [],
   "source": [
    "df_orders_prior.to_pickle(os.path.join(path, '02 Data','Clean Data', 'orders_products_prior.pkl'))"
   ]
  }
 ],
 "metadata": {
  "kernelspec": {
   "display_name": "Python [conda env:base] *",
   "language": "python",
   "name": "conda-base-py"
  },
  "language_info": {
   "codemirror_mode": {
    "name": "ipython",
    "version": 3
   },
   "file_extension": ".py",
   "mimetype": "text/x-python",
   "name": "python",
   "nbconvert_exporter": "python",
   "pygments_lexer": "ipython3",
   "version": "3.13.2"
  }
 },
 "nbformat": 4,
 "nbformat_minor": 5
}
